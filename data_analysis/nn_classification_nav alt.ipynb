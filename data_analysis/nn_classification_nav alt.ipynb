{
 "cells": [
  {
   "cell_type": "code",
   "execution_count": 1,
   "metadata": {},
   "outputs": [
    {
     "name": "stdout",
     "output_type": "stream",
     "text": [
      "(array([0, 1]), array([361, 759]))\n",
      "1120\n",
      "1120\n",
      "2\n",
      "10\n"
     ]
    }
   ],
   "source": [
    "import numpy as np\n",
    "\n",
    "navs = ('No navegable', 'Navegable')\n",
    "\n",
    "x = np.load('processed_nav_data.npy')\n",
    "y = np.load('nav_data_labels.npy')\n",
    "\n",
    "x_train, x_val, x_test = np.split(\n",
    "    np.array(x), [int(len(x)*0.7), int(len(x)*0.85)])\n",
    "y_train, y_val, y_test = np.split(\n",
    "    np.array(y), [int(len(y)*0.7), int(len(y)*0.85)])\n",
    "\n",
    "n_clases = len(navs)\n",
    "n_features = len(x[0])\n",
    "\n",
    "print(np.unique(y, return_counts=True))\n",
    "print(len(x))\n",
    "print(len(y))\n",
    "print(n_clases)\n",
    "print(n_features)\n"
   ]
  },
  {
   "cell_type": "code",
   "execution_count": 2,
   "metadata": {},
   "outputs": [
    {
     "name": "stderr",
     "output_type": "stream",
     "text": [
      "2021-11-13 20:50:19.662349: I tensorflow/stream_executor/platform/default/dso_loader.cc:49] Successfully opened dynamic library libcudart.so.10.1\n"
     ]
    }
   ],
   "source": [
    "import numpy as np\n",
    "from sklearn.model_selection import KFold\n",
    "from sklearn.metrics import confusion_matrix\n",
    "from keras.models import Sequential\n",
    "from keras.layers import Dense\n",
    "from sklearn.utils import class_weight\n",
    "\n",
    "class_weights = class_weight.compute_class_weight('balanced',\n",
    "                                                  np.unique(y),\n",
    "                                                  y)\n",
    "kf = KFold(n_splits=5, shuffle=True)\n",
    "acc = 0\n",
    "recall = np.array([0., 0.])\n",
    "iteration = 1\n",
    "for train_index, test_index in kf.split(x):\n",
    "    print(f'Iteration {iteration}')\n",
    "    iteration += 1\n",
    "    x_train = x[train_index, :]\n",
    "    y_train = y[train_index]\n",
    "\n",
    "    clf = Sequential()\n",
    "    clf.add(Dense(16, input_dim=n_features, activation='relu'))\n",
    "    clf.add(Dense(16, activation='relu'))\n",
    "    clf.add(Dense(1, activation='sigmoid'))\n",
    "    clf.compile(loss='binary_crossentropy', optimizer='adam')\n",
    "    clf.fit(x_train, y_train, epochs=50, batch_size=5, class_weight=(\n",
    "        dict(zip(np.unique(y), class_weights))), verbose=0)\n",
    "\n",
    "    x_test = x[test_index, :]\n",
    "    y_test = y[test_index]\n",
    "    y_pred = (clf.predict(x_test) > 0.5).astype(\"int32\")\n",
    "    cm = confusion_matrix(y_test, y_pred)\n",
    "    acc += (cm[0, 0]+cm[1, 1])/len(y_test)\n",
    "    recall[0] += cm[0, 0]/(cm[0, 0] + cm[0, 1])\n",
    "    recall[1] += cm[1, 1]/(cm[1, 0] + cm[1, 1])\n",
    "acc = acc/5\n",
    "print('ACC = ', acc)\n",
    "recall = recall/5\n",
    "print('RECALL = ', recall)\n"
   ]
  }
 ],
 "metadata": {
  "interpreter": {
   "hash": "732f00c41ec6febe1195a3ec4989d3211f40efb04fd77f25a6f0f8bfd6feb066"
  },
  "kernelspec": {
   "display_name": "Python 3.9.5 64-bit ('tf-gpu': conda)",
   "language": "python",
   "name": "python3"
  },
  "language_info": {
   "codemirror_mode": {
    "name": "ipython",
    "version": 3
   },
   "file_extension": ".py",
   "mimetype": "text/x-python",
   "name": "python",
   "nbconvert_exporter": "python",
   "pygments_lexer": "ipython3",
   "version": "3.9.5"
  },
  "orig_nbformat": 4
 },
 "nbformat": 4,
 "nbformat_minor": 2
}
