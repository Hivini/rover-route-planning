{
 "cells": [
  {
   "cell_type": "code",
   "execution_count": 8,
   "metadata": {},
   "outputs": [],
   "source": [
    "import numpy as np\n",
    "\n",
    "terrain_data = np.load('terrain_data.npy')\n",
    "terrain_labels = np.load('terrain_data_labels.npy')\n",
    "nav_data = np.load('nav_data.npy')\n",
    "nav_labels = np.load('nav_data_labels.npy')\n",
    "column_metadata = np.load('surface_columns_metadata.npy')"
   ]
  },
  {
   "cell_type": "code",
   "execution_count": 9,
   "metadata": {},
   "outputs": [
    {
     "name": "stdout",
     "output_type": "stream",
     "text": [
      "(array([1, 2, 3, 4, 5, 6]), array([1765,  270,  224,  124,  502,  338]))\n",
      "(array([0, 1, 2, 3, 4, 5]), array([1765,  270,  224,  124,  502,  338]))\n"
     ]
    }
   ],
   "source": [
    "print(np.unique(terrain_labels, return_counts=True))\n",
    "terrain_labels = terrain_labels - 1\n",
    "print(np.unique(terrain_labels, return_counts=True))"
   ]
  },
  {
   "cell_type": "code",
   "execution_count": 10,
   "metadata": {},
   "outputs": [
    {
     "name": "stdout",
     "output_type": "stream",
     "text": [
      "(array([0, 1, 2]), array([1765,  618,  840]))\n"
     ]
    }
   ],
   "source": [
    "terrains = ('Plano', 'Bordes',\n",
    "            'Cráter pequeño', 'Cráter profundo', 'Colina', 'Montaña')\n",
    "\n",
    "# Plano\n",
    "# Desmadre\n",
    "# Colinas/Monta;a\n",
    "for i in range(len(terrain_labels)):\n",
    "    val = terrain_labels[i]\n",
    "    if val in [2, 3]:\n",
    "        terrain_labels[i] = 1\n",
    "    elif val in [4, 5]:\n",
    "        terrain_labels[i] = 2\n",
    "\n",
    "print(np.unique(terrain_labels, return_counts=True))"
   ]
  },
  {
   "cell_type": "code",
   "execution_count": 11,
   "metadata": {},
   "outputs": [
    {
     "name": "stdout",
     "output_type": "stream",
     "text": [
      "(array([1, 2, 3, 4]), array([175, 186, 338, 421]))\n",
      "(array([0, 1, 2, 3]), array([175, 186, 338, 421]))\n"
     ]
    }
   ],
   "source": [
    "print(np.unique(nav_labels, return_counts=True))\n",
    "nav_labels = nav_labels - 1\n",
    "print(np.unique(nav_labels, return_counts=True))"
   ]
  },
  {
   "cell_type": "code",
   "execution_count": 12,
   "metadata": {},
   "outputs": [
    {
     "name": "stdout",
     "output_type": "stream",
     "text": [
      "(array([0, 1]), array([361, 759]))\n"
     ]
    }
   ],
   "source": [
    "navs = ('Muy poco navegable', 'Poco navegable',\n",
    "        'Navegable', 'Muy navegable')\n",
    "\n",
    "# No navegable y si navegable\n",
    "for i in range(len(nav_labels)):\n",
    "    val = nav_labels[i]\n",
    "    if val == 1:\n",
    "        nav_labels[i] = 0\n",
    "    elif val in [2, 3]:\n",
    "        nav_labels[i] = 1\n",
    "\n",
    "print(np.unique(nav_labels, return_counts=True))"
   ]
  },
  {
   "cell_type": "code",
   "execution_count": 13,
   "metadata": {},
   "outputs": [],
   "source": [
    "np.save('terrain_data_labels.npy', terrain_labels)\n",
    "np.save('nav_data_labels.npy', nav_labels)"
   ]
  }
 ],
 "metadata": {
  "interpreter": {
   "hash": "732f00c41ec6febe1195a3ec4989d3211f40efb04fd77f25a6f0f8bfd6feb066"
  },
  "kernelspec": {
   "display_name": "Python 3.9.5 64-bit ('tf-gpu': conda)",
   "language": "python",
   "name": "python3"
  },
  "language_info": {
   "codemirror_mode": {
    "name": "ipython",
    "version": 3
   },
   "file_extension": ".py",
   "mimetype": "text/x-python",
   "name": "python",
   "nbconvert_exporter": "python",
   "pygments_lexer": "ipython3",
   "version": "3.9.5"
  },
  "orig_nbformat": 4
 },
 "nbformat": 4,
 "nbformat_minor": 2
}
