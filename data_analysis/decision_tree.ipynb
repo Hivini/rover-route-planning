{
 "cells": [
  {
   "cell_type": "code",
   "execution_count": 1,
   "metadata": {},
   "outputs": [],
   "source": [
    "import numpy as np\n",
    "\n",
    "TYPE = 'nav'\n",
    "\n",
    "surface_data = np.load(f'{TYPE}_data.npy')\n",
    "surface_labels = np.load(f'{TYPE}_data_labels.npy')\n",
    "column_metadata = np.load('surface_columns_metadata.npy')"
   ]
  },
  {
   "cell_type": "markdown",
   "metadata": {},
   "source": [
    "# Decision Tree"
   ]
  },
  {
   "cell_type": "code",
   "execution_count": 9,
   "metadata": {},
   "outputs": [
    {
     "name": "stdout",
     "output_type": "stream",
     "text": [
      "Accuracy for Decision Tree:  0.4462616822429907\n",
      "{'fit_time': array([0.00687981, 0.00722671, 0.00755405, 0.00782728, 0.00632524,\n",
      "       0.00637913, 0.00727248, 0.00736618]),\n",
      " 'score_time': array([0.00099778, 0.00107551, 0.00097203, 0.00090051, 0.00084901,\n",
      "       0.00088978, 0.00100183, 0.00098157]),\n",
      " 'test_accuracy': array([0.47663551, 0.43925234, 0.40186916, 0.4953271 , 0.36448598,\n",
      "       0.4953271 , 0.43925234, 0.45794393]),\n",
      " 'test_recall_micro': array([0.47663551, 0.43925234, 0.40186916, 0.4953271 , 0.36448598,\n",
      "       0.4953271 , 0.43925234, 0.45794393])}\n"
     ]
    }
   ],
   "source": [
    "import pickle\n",
    "from sklearn import tree\n",
    "from pprint import pprint\n",
    "from sklearn.model_selection import cross_validate\n",
    "\n",
    "CV = 8\n",
    "clf = tree.DecisionTreeClassifier()\n",
    "cv_results = cross_validate(clf, surface_data, surface_labels, cv=CV, scoring=('accuracy', 'recall_micro'))\n",
    "print('Accuracy for Decision Tree: ', cv_results['test_accuracy'].sum()/CV)\n",
    "pprint(cv_results)\n",
    "\n",
    "with open(f'{TYPE}_decision_tree.pkl', 'wb') as f:\n",
    "    pickle.dump(clf, f)"
   ]
  }
 ],
 "metadata": {
  "interpreter": {
   "hash": "732f00c41ec6febe1195a3ec4989d3211f40efb04fd77f25a6f0f8bfd6feb066"
  },
  "kernelspec": {
   "display_name": "Python 3.9.5 64-bit ('tf-gpu': conda)",
   "language": "python",
   "name": "python3"
  },
  "language_info": {
   "codemirror_mode": {
    "name": "ipython",
    "version": 3
   },
   "file_extension": ".py",
   "mimetype": "text/x-python",
   "name": "python",
   "nbconvert_exporter": "python",
   "pygments_lexer": "ipython3",
   "version": "3.9.5"
  },
  "orig_nbformat": 4
 },
 "nbformat": 4,
 "nbformat_minor": 2
}
