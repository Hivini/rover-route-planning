{
 "cells": [
  {
   "cell_type": "code",
   "execution_count": 2,
   "metadata": {},
   "outputs": [],
   "source": [
    "import numpy as np\n",
    "\n",
    "terrain_data = np.load(f'processed_terrain_data.npy')\n",
    "terrain_labels = np.load(f'terrain_data_labels.npy')\n",
    "terrain_columns = np.load('terrains_columns_metadata.npy')"
   ]
  },
  {
   "cell_type": "code",
   "execution_count": 8,
   "metadata": {},
   "outputs": [
    {
     "name": "stdout",
     "output_type": "stream",
     "text": [
      "SVM Radial Accuracy:  0.605330975395973\n",
      "{'fit_time': array([0.67665434, 0.66188836, 0.65327215, 0.7049458 , 0.68204737,\n",
      "       0.66590738, 0.68469501, 0.72087646]),\n",
      " 'score_time': array([0.05068016, 0.05166435, 0.04887009, 0.05159402, 0.05259085,\n",
      "       0.05295134, 0.0547049 , 0.04886389]),\n",
      " 'test_accuracy': array([0.63523573, 0.64019851, 0.58064516, 0.64764268, 0.59305211,\n",
      "       0.59801489, 0.56079404, 0.58706468]),\n",
      " 'test_recall_micro': array([0.63523573, 0.64019851, 0.58064516, 0.64764268, 0.59305211,\n",
      "       0.59801489, 0.56079404, 0.58706468])}\n"
     ]
    }
   ],
   "source": [
    "import pickle\n",
    "from pprint import pprint\n",
    "from sklearn import svm\n",
    "from sklearn.model_selection import cross_validate\n",
    "\n",
    "CV = 8\n",
    "clf = svm.SVC(kernel = 'rbf', class_weight='balanced')\n",
    "cv_results = cross_validate(clf, terrain_data, terrain_labels, cv=CV, scoring=('accuracy', 'recall_micro'))\n",
    "print('SVM Radial Accuracy: ', cv_results['test_accuracy'].sum()/CV)\n",
    "pprint(cv_results)\n",
    "\n",
    "with open(f'terrain_svm_rbf.pkl', 'wb') as f:\n",
    "    pickle.dump(clf, f)"
   ]
  }
 ],
 "metadata": {
  "interpreter": {
   "hash": "732f00c41ec6febe1195a3ec4989d3211f40efb04fd77f25a6f0f8bfd6feb066"
  },
  "kernelspec": {
   "display_name": "Python 3.9.5 64-bit ('tf-gpu': conda)",
   "language": "python",
   "name": "python3"
  },
  "language_info": {
   "codemirror_mode": {
    "name": "ipython",
    "version": 3
   },
   "file_extension": ".py",
   "mimetype": "text/x-python",
   "name": "python",
   "nbconvert_exporter": "python",
   "pygments_lexer": "ipython3",
   "version": "3.9.5"
  },
  "orig_nbformat": 4
 },
 "nbformat": 4,
 "nbformat_minor": 2
}
