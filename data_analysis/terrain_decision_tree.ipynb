{
 "cells": [
  {
   "cell_type": "code",
   "execution_count": 1,
   "metadata": {},
   "outputs": [],
   "source": [
    "import numpy as np\n",
    "\n",
    "terrain_data = np.load(f'processed_terrain_data.npy')\n",
    "terrain_labels = np.load(f'terrain_data_labels.npy')\n",
    "terrain_columns = np.load('terrains_columns_metadata.npy')"
   ]
  },
  {
   "cell_type": "markdown",
   "metadata": {},
   "source": [
    "# Decision Tree"
   ]
  },
  {
   "cell_type": "code",
   "execution_count": 6,
   "metadata": {},
   "outputs": [
    {
     "name": "stdout",
     "output_type": "stream",
     "text": [
      "Accuracy for Decision Tree:  0.6040794122194301\n",
      "{'fit_time': array([0.06364703, 0.07176113, 0.06156254, 0.06984496, 0.06317115,\n",
      "       0.06376123]),\n",
      " 'score_time': array([0.00258374, 0.00230479, 0.00355387, 0.00292087, 0.00242853,\n",
      "       0.0024693 ]),\n",
      " 'test_accuracy': array([0.65613383, 0.59776536, 0.60893855, 0.59776536, 0.56238361,\n",
      "       0.60148976]),\n",
      " 'test_recall_micro': array([0.65613383, 0.59776536, 0.60893855, 0.59776536, 0.56238361,\n",
      "       0.60148976])}\n"
     ]
    }
   ],
   "source": [
    "import pickle\n",
    "from sklearn import tree\n",
    "from pprint import pprint\n",
    "from sklearn.model_selection import cross_validate\n",
    "\n",
    "CV = 6\n",
    "clf = tree.DecisionTreeClassifier(class_weight='balanced')\n",
    "cv_results = cross_validate(clf, terrain_data, terrain_labels, cv=CV, scoring=('accuracy', 'recall_micro'))\n",
    "print('Accuracy for Decision Tree: ', cv_results['test_accuracy'].sum()/CV)\n",
    "pprint(cv_results)\n",
    "\n",
    "with open(f'terrain_decision_tree.pkl', 'wb') as f:\n",
    "    pickle.dump(clf, f)"
   ]
  }
 ],
 "metadata": {
  "interpreter": {
   "hash": "732f00c41ec6febe1195a3ec4989d3211f40efb04fd77f25a6f0f8bfd6feb066"
  },
  "kernelspec": {
   "display_name": "Python 3.9.5 64-bit ('tf-gpu': conda)",
   "language": "python",
   "name": "python3"
  },
  "language_info": {
   "codemirror_mode": {
    "name": "ipython",
    "version": 3
   },
   "file_extension": ".py",
   "mimetype": "text/x-python",
   "name": "python",
   "nbconvert_exporter": "python",
   "pygments_lexer": "ipython3",
   "version": "3.9.5"
  },
  "orig_nbformat": 4
 },
 "nbformat": 4,
 "nbformat_minor": 2
}
