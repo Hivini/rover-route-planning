{
 "cells": [
  {
   "cell_type": "code",
   "execution_count": 1,
   "metadata": {},
   "outputs": [],
   "source": [
    "import numpy as np\n",
    "\n",
    "terrain_data = np.load(f'processed_terrain_data.npy')\n",
    "terrain_labels = np.load(f'terrain_data_labels.npy')\n",
    "terrain_columns = np.load('terrains_columns_metadata.npy')"
   ]
  },
  {
   "cell_type": "markdown",
   "metadata": {},
   "source": [
    "# Decision Tree"
   ]
  },
  {
   "cell_type": "code",
   "execution_count": 2,
   "metadata": {},
   "outputs": [
    {
     "name": "stdout",
     "output_type": "stream",
     "text": [
      "Confusion matrix\n",
      " [[191   4   9]\n",
      " [ 10  44  32]\n",
      " [  5  27  89]]\n",
      "Confusion matrix\n",
      " [[184  17   2]\n",
      " [  6  52  28]\n",
      " [  4  25  92]]\n",
      "Confusion matrix\n",
      " [[182  14   8]\n",
      " [ 13  52  21]\n",
      " [ 14  24  82]]\n",
      "Confusion matrix\n",
      " [[193   5   6]\n",
      " [ 14  44  28]\n",
      " [  9  28  83]]\n",
      "Confusion matrix\n",
      " [[185   9  10]\n",
      " [ 11  50  24]\n",
      " [  9  28  84]]\n",
      "Acc:  0.7835178921132278\n",
      "Precision:  [0.9084818  0.57275543 0.71974372]\n",
      "Recall:  [0.9175553  0.56415869 0.71301653]\n"
     ]
    }
   ],
   "source": [
    "import pickle\n",
    "from sklearn import neighbors\n",
    "from sklearn.model_selection import StratifiedKFold\n",
    "from sklearn.metrics import confusion_matrix\n",
    "from sklearn import tree\n",
    "\n",
    "\n",
    "foldsNum = 5\n",
    "kf = StratifiedKFold(n_splits=foldsNum, shuffle = True)\n",
    "clf = tree.DecisionTreeClassifier(class_weight='balanced')\n",
    "acc = 0\n",
    "n_classes = len(np.unique(terrain_labels))\n",
    "recall = np.zeros(n_classes)\n",
    "precision = np.zeros(n_classes)\n",
    "for train_index, test_index in kf.split(terrain_data, terrain_labels):\n",
    "    \n",
    "    # Training phase\n",
    "    x_train = terrain_data[train_index, :]\n",
    "    y_train = terrain_labels[train_index]\n",
    "    clf.fit(x_train, y_train)\n",
    "\n",
    "    # Test phase\n",
    "    x_test = terrain_data[test_index, :]\n",
    "    y_test = terrain_labels[test_index]    \n",
    "    y_pred = clf.predict(x_test)\n",
    "    # Calculate confusion matrix and model performance\n",
    "    cm = confusion_matrix(y_test, y_pred)\n",
    "    print('Confusion matrix\\n', cm)\n",
    "\n",
    "    accSum = 0\n",
    "    for i in range(n_classes):\n",
    "        accSum += cm[i,i]\n",
    "    acc += accSum / len(y_test)\n",
    "\n",
    "    for i in range(n_classes):\n",
    "        innerSum = 0\n",
    "        for y in range(n_classes):\n",
    "            innerSum += cm[i,y]\n",
    "        recall[i] += cm[i,i]/innerSum\n",
    "\n",
    "    for i in range(n_classes):\n",
    "        innerSum = 0\n",
    "        for y in range(n_classes):\n",
    "            innerSum += cm[y,i]\n",
    "        precision[i] += cm[i,i]/innerSum\n",
    "\n",
    "# Print results\n",
    "acc = acc/foldsNum\n",
    "print('Acc: ', acc)\n",
    "precision = precision/foldsNum\n",
    "print('Precision: ', precision)\n",
    "recall = recall/foldsNum\n",
    "print('Recall: ', recall)\n",
    "\n",
    "with open(f'terrain_decision_tree.pkl', 'wb') as f:\n",
    "    pickle.dump(clf, f)"
   ]
  }
 ],
 "metadata": {
  "interpreter": {
   "hash": "732f00c41ec6febe1195a3ec4989d3211f40efb04fd77f25a6f0f8bfd6feb066"
  },
  "kernelspec": {
   "display_name": "Python 3.9.5 64-bit ('tf-gpu': conda)",
   "language": "python",
   "name": "python3"
  },
  "language_info": {
   "codemirror_mode": {
    "name": "ipython",
    "version": 3
   },
   "file_extension": ".py",
   "mimetype": "text/x-python",
   "name": "python",
   "nbconvert_exporter": "python",
   "pygments_lexer": "ipython3",
   "version": "3.9.5"
  },
  "orig_nbformat": 4
 },
 "nbformat": 4,
 "nbformat_minor": 2
}
