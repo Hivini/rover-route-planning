{
 "cells": [
  {
   "cell_type": "code",
   "execution_count": 1,
   "metadata": {},
   "outputs": [],
   "source": [
    "import numpy as np\n",
    "\n",
    "TYPE = 'nav'\n",
    "\n",
    "surface_data = np.load(f'{TYPE}_data.npy')\n",
    "surface_labels = np.load(f'{TYPE}_data_labels.npy')\n",
    "column_metadata = np.load('surface_columns_metadata.npy')"
   ]
  },
  {
   "cell_type": "code",
   "execution_count": 8,
   "metadata": {},
   "outputs": [
    {
     "name": "stdout",
     "output_type": "stream",
     "text": [
      "SVM Radial Accuracy:  0.44043632423914114\n",
      "{'fit_time': array([0.02048063, 0.020612  , 0.02020979, 0.0273025 , 0.01990294,\n",
      "       0.01926541]),\n",
      " 'score_time': array([0.0035634 , 0.00327826, 0.00347328, 0.00350261, 0.00334883,\n",
      "       0.00334692]),\n",
      " 'test_accuracy': array([0.48251748, 0.45454545, 0.39160839, 0.41958042, 0.45774648,\n",
      "       0.43661972]),\n",
      " 'test_recall_micro': array([0.48251748, 0.45454545, 0.39160839, 0.41958042, 0.45774648,\n",
      "       0.43661972])}\n"
     ]
    }
   ],
   "source": [
    "import pickle\n",
    "from pprint import pprint\n",
    "from sklearn import svm\n",
    "from sklearn.model_selection import cross_validate\n",
    "\n",
    "CV = 6\n",
    "clf = svm.SVC(kernel = 'rbf')\n",
    "cv_results = cross_validate(clf, surface_data, surface_labels, cv=CV, scoring=('accuracy', 'recall_micro'))\n",
    "print('SVM Radial Accuracy: ', cv_results['test_accuracy'].sum()/CV)\n",
    "pprint(cv_results)\n",
    "\n",
    "with open(f'{TYPE}_svm_rbf.pkl', 'wb') as f:\n",
    "    pickle.dump(clf, f)"
   ]
  }
 ],
 "metadata": {
  "interpreter": {
   "hash": "732f00c41ec6febe1195a3ec4989d3211f40efb04fd77f25a6f0f8bfd6feb066"
  },
  "kernelspec": {
   "display_name": "Python 3.9.5 64-bit ('tf-gpu': conda)",
   "language": "python",
   "name": "python3"
  },
  "language_info": {
   "codemirror_mode": {
    "name": "ipython",
    "version": 3
   },
   "file_extension": ".py",
   "mimetype": "text/x-python",
   "name": "python",
   "nbconvert_exporter": "python",
   "pygments_lexer": "ipython3",
   "version": "3.9.5"
  },
  "orig_nbformat": 4
 },
 "nbformat": 4,
 "nbformat_minor": 2
}
