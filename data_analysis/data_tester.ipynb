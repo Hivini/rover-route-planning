{
 "cells": [
  {
   "cell_type": "code",
   "execution_count": 15,
   "metadata": {},
   "outputs": [],
   "source": [
    "import numpy as np\n",
    "\n",
    "surface_data = np.load('surface_data.npy')\n",
    "surface_labels = np.load('surface_labels.npy')\n",
    "x = surface_data"
   ]
  },
  {
   "cell_type": "code",
   "execution_count": 19,
   "metadata": {},
   "outputs": [
    {
     "name": "stdout",
     "output_type": "stream",
     "text": [
      "['glmc_disimilarity' 'glmc_correlation' 'slope_max' 'slope_min'\n",
      " 'slope_variance' 'slope_skewness' 'slope_kurtosis' 'depression_max'\n",
      " 'depression_min' 'depression_variance' 'depression_skewness'\n",
      " 'depression_kurtosis' 'rise_max' 'rise_min' 'rise_variance'\n",
      " 'rise_skewness' 'rise_kurtosis']\n",
      "17\n"
     ]
    }
   ],
   "source": [
    "print(surface_labels)\n",
    "# Images that were defined as \"Indefinido\" are not included.\n",
    "print(len(x))"
   ]
  }
 ],
 "metadata": {
  "interpreter": {
   "hash": "732f00c41ec6febe1195a3ec4989d3211f40efb04fd77f25a6f0f8bfd6feb066"
  },
  "kernelspec": {
   "display_name": "Python 3.9.5 64-bit ('tf-gpu': conda)",
   "language": "python",
   "name": "python3"
  },
  "language_info": {
   "codemirror_mode": {
    "name": "ipython",
    "version": 3
   },
   "file_extension": ".py",
   "mimetype": "text/x-python",
   "name": "python",
   "nbconvert_exporter": "python",
   "pygments_lexer": "ipython3",
   "version": "3.9.5"
  },
  "orig_nbformat": 4
 },
 "nbformat": 4,
 "nbformat_minor": 2
}
