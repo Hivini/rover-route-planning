{
 "cells": [
  {
   "cell_type": "code",
   "execution_count": 1,
   "metadata": {},
   "outputs": [],
   "source": [
    "import numpy as np\n",
    "\n",
    "terrain_data = np.load('terrain_data.npy')\n",
    "terrain_labels = np.load('terrain_data_labels.npy')\n",
    "nav_data = np.load('nav_data.npy')\n",
    "nav_labels = np.load('nav_data_labels.npy')\n",
    "column_metadata = np.load('surface_columns_metadata.npy')\n"
   ]
  },
  {
   "cell_type": "code",
   "execution_count": 2,
   "metadata": {},
   "outputs": [
    {
     "name": "stdout",
     "output_type": "stream",
     "text": [
      "['glmc_disimilarity' 'glmc_correlation' 'slope_max' 'slope_min'\n",
      " 'slope_variance' 'slope_skewness' 'slope_kurtosis' 'depression_max'\n",
      " 'depression_min' 'depression_variance' 'depression_skewness'\n",
      " 'depression_kurtosis' 'rise_max' 'rise_min' 'rise_variance'\n",
      " 'rise_skewness' 'rise_kurtosis']\n",
      "[1 2 3 4]\n",
      "496\n",
      "496\n",
      "[3 4 3 3 3 3 4 4 4 3 3 3 2 3 2 1 1 1 4 4 1 1 4 4 4 1 1 4 1 4 4 3 4 2 4 4 4\n",
      " 4 4 4 4 4 1 1 3 4 4 3 3 3 3 3 1 1 4 3 1 4 4 4 4 4 4 4 4 3 4 4 3 3 4 3 3 3\n",
      " 3 3 2 3 3 4 2 2 3 3 3 2 2 4 4 1 4 4 4 4 4 4 4 4 4 3 4 4 3 4 4 4 3 3 2 1 3\n",
      " 2 2 3 4 3 1 3 2 2 4 4 1 3 3 4 3 3 4 4 2 4 3 4 4 4 4 3 4 4 4 4 4 4 3 4 4 3\n",
      " 3 3 3 3 3 4 4 4 1 2 2 3 4 4 4 2 4 4 3 4 4 4 4 2 4 4 2 4 3 4 3 4 1 1 4 3 2\n",
      " 4 4 2 1 1 4 2 3 4 3 4 3 4 4 4 4 4 3 3 1 3 3 1 4 3 4 4 4 4 4 4 1 1 2 1 1 1\n",
      " 1 1 2 2 1 3 2 1 1 1 1 3 1 2 1 1 2 1 1 1 2 1 1 3 1 2 1 3 1 1 1 2 3 1 1 1 1\n",
      " 1 4 2 4 4 4 4 4 4 4 4 4 4 2 4 4 3 2 4 1 2 4 4 4 1 4 4 4 1 4 4 1 2 1 3 1 1\n",
      " 1 2 3 1 3 1 3 1 2 1 4 3 3 1 2 3 1 4 3 1 3 3 2 1 1 3 3 2 2 1 1 1 1 1 1 2 1\n",
      " 3 2 2 2 3 4 3 4 2 2 1 2 2 2 1 1 1 1 2 4 4 4 4 4 4 4 4 4 4 4 4 4 3 4 2 1 4\n",
      " 3 2 2 4 4 3 2 4 1 2 2 4 4 2 3 3 2 2 2 3 2 3 4 2 4 4 2 4 4 4 4 4 1 4 4 4 4\n",
      " 4 4 4 4 4 2 4 3 4 3 4 4 3 2 3 3 3 2 3 2 3 3 3 3 3 2 3 1 3 3 4 3 1 2 3 2 3\n",
      " 4 3 2 3 3 3 4 3 2 4 4 3 4 2 3 3 3 4 3 1 4 4 3 3 3 3 2 2 3 3 3 2 3 3 2 2 4\n",
      " 1 4 4 1 1 2 4 2 4 2 2 3 4 3 3]\n",
      "[[ 1.39666667e+00  2.21425352e-01  1.93223560e+00 ...  8.47923039e-02\n",
      "   3.93243512e+00  1.74443028e+01]\n",
      " [ 4.53333333e-01  2.21088313e-01  1.47400784e+00 ...  1.94016003e-02\n",
      "   4.12136531e+00  1.92869269e+01]\n",
      " [ 1.08000000e+00  1.33608862e-01  1.31172335e+00 ...  1.75682889e-01\n",
      "   1.44140243e+00  1.35300541e+00]\n",
      " ...\n",
      " [ 3.37333333e+00  6.52517768e-01  2.23397589e+00 ...  3.46941187e-05\n",
      "   1.40720172e+01  1.96361646e+02]\n",
      " [ 9.03333333e-01  9.09550821e-01  1.47115648e+00 ...  1.04900917e-04\n",
      "   1.69922804e+01  3.01635984e+02]\n",
      " [ 4.51333333e+00  9.17004380e-01  4.17731714e+00 ...  0.00000000e+00\n",
      "   0.00000000e+00 -3.00000000e+00]]\n"
     ]
    }
   ],
   "source": [
    "print(column_metadata)\n",
    "# Images that were defined as \"Indefinido\" are not included.\n",
    "print(np.unique(terrain_labels))\n",
    "print(len(terrain_labels))\n",
    "print(len(terrain_data))\n",
    "print(terrain_labels)\n",
    "print(terrain_data)\n"
   ]
  },
  {
   "cell_type": "code",
   "execution_count": 3,
   "metadata": {},
   "outputs": [
    {
     "name": "stdout",
     "output_type": "stream",
     "text": [
      "['glmc_disimilarity' 'glmc_correlation' 'slope_max' 'slope_min'\n",
      " 'slope_variance' 'slope_skewness' 'slope_kurtosis' 'depression_max'\n",
      " 'depression_min' 'depression_variance' 'depression_skewness'\n",
      " 'depression_kurtosis' 'rise_max' 'rise_min' 'rise_variance'\n",
      " 'rise_skewness' 'rise_kurtosis']\n",
      "[1 2 3 4]\n",
      "496\n",
      "496\n",
      "[3 4 3 3 3 3 4 4 4 3 3 3 2 3 2 1 1 1 4 4 1 1 4 4 4 1 1 4 1 4 4 3 4 2 4 4 4\n",
      " 4 4 4 4 4 1 1 3 4 4 3 3 3 3 3 1 1 4 3 1 4 4 4 4 4 4 4 4 3 4 4 3 3 4 3 3 3\n",
      " 3 3 2 3 3 4 2 2 3 3 3 2 2 4 4 1 4 4 4 4 4 4 4 4 4 3 4 4 3 4 4 4 3 3 2 1 3\n",
      " 2 2 3 4 3 1 3 2 2 4 4 1 3 3 4 3 3 4 4 2 4 3 4 4 4 4 3 4 4 4 4 4 4 3 4 4 3\n",
      " 3 3 3 3 3 4 4 4 1 2 2 3 4 4 4 2 4 4 3 4 4 4 4 2 4 4 2 4 3 4 3 4 1 1 4 3 2\n",
      " 4 4 2 1 1 4 2 3 4 3 4 3 4 4 4 4 4 3 3 1 3 3 1 4 3 4 4 4 4 4 4 1 1 2 1 1 1\n",
      " 1 1 2 2 1 3 2 1 1 1 1 3 1 2 1 1 2 1 1 1 2 1 1 3 1 2 1 3 1 1 1 2 3 1 1 1 1\n",
      " 1 4 2 4 4 4 4 4 4 4 4 4 4 2 4 4 3 2 4 1 2 4 4 4 1 4 4 4 1 4 4 1 2 1 3 1 1\n",
      " 1 2 3 1 3 1 3 1 2 1 4 3 3 1 2 3 1 4 3 1 3 3 2 1 1 3 3 2 2 1 1 1 1 1 1 2 1\n",
      " 3 2 2 2 3 4 3 4 2 2 1 2 2 2 1 1 1 1 2 4 4 4 4 4 4 4 4 4 4 4 4 4 3 4 2 1 4\n",
      " 3 2 2 4 4 3 2 4 1 2 2 4 4 2 3 3 2 2 2 3 2 3 4 2 4 4 2 4 4 4 4 4 1 4 4 4 4\n",
      " 4 4 4 4 4 2 4 3 4 3 4 4 3 2 3 3 3 2 3 2 3 3 3 3 3 2 3 1 3 3 4 3 1 2 3 2 3\n",
      " 4 3 2 3 3 3 4 3 2 4 4 3 4 2 3 3 3 4 3 1 4 4 3 3 3 3 2 2 3 3 3 2 3 3 2 2 4\n",
      " 1 4 4 1 1 2 4 2 4 2 2 3 4 3 3]\n",
      "[[ 1.39666667e+00  2.21425352e-01  1.93223560e+00 ...  8.47923039e-02\n",
      "   3.93243512e+00  1.74443028e+01]\n",
      " [ 4.53333333e-01  2.21088313e-01  1.47400784e+00 ...  1.94016003e-02\n",
      "   4.12136531e+00  1.92869269e+01]\n",
      " [ 1.08000000e+00  1.33608862e-01  1.31172335e+00 ...  1.75682889e-01\n",
      "   1.44140243e+00  1.35300541e+00]\n",
      " ...\n",
      " [ 3.37333333e+00  6.52517768e-01  2.23397589e+00 ...  3.46941187e-05\n",
      "   1.40720172e+01  1.96361646e+02]\n",
      " [ 9.03333333e-01  9.09550821e-01  1.47115648e+00 ...  1.04900917e-04\n",
      "   1.69922804e+01  3.01635984e+02]\n",
      " [ 4.51333333e+00  9.17004380e-01  4.17731714e+00 ...  0.00000000e+00\n",
      "   0.00000000e+00 -3.00000000e+00]]\n"
     ]
    }
   ],
   "source": [
    "print(column_metadata)\n",
    "# Images that were defined as \"Indefinido\" are not included.\n",
    "print(np.unique(terrain_labels))\n",
    "print(len(terrain_labels))\n",
    "print(len(terrain_data))\n",
    "print(terrain_labels)\n",
    "print(terrain_data)\n"
   ]
  },
  {
   "cell_type": "code",
   "execution_count": 4,
   "metadata": {},
   "outputs": [],
   "source": [
    "# The surface labels values correspond to this array, e.g., if label value is '1'\n",
    "# it means is 'Plano'\n",
    "terrains = ('Indefinido', 'Plano', 'Bordes',\n",
    "            'Cráter pequeño', 'Cráter profundo', 'Colina', 'Montaña')\n",
    "# Same here\n",
    "navs = ('Indefinido', 'Muy poco navegable', 'Poco navegable',\n",
    "        'Navegable', 'Muy navegable')\n"
   ]
  }
 ],
 "metadata": {
  "interpreter": {
   "hash": "732f00c41ec6febe1195a3ec4989d3211f40efb04fd77f25a6f0f8bfd6feb066"
  },
  "kernelspec": {
   "display_name": "Python 3.9.5 64-bit ('tf-gpu': conda)",
   "language": "python",
   "name": "python3"
  },
  "language_info": {
   "codemirror_mode": {
    "name": "ipython",
    "version": 3
   },
   "file_extension": ".py",
   "mimetype": "text/x-python",
   "name": "python",
   "nbconvert_exporter": "python",
   "pygments_lexer": "ipython3",
   "version": "3.9.5"
  },
  "orig_nbformat": 4
 },
 "nbformat": 4,
 "nbformat_minor": 2
}
