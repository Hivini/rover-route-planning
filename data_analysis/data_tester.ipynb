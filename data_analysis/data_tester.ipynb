{
 "cells": [
  {
   "cell_type": "code",
   "execution_count": 15,
   "metadata": {},
   "outputs": [],
   "source": [
    "import numpy as np\n",
    "\n",
    "surface_data = np.load('surface_data.npy')\n",
    "surface_labels = np.load('surface_data_labels.npy')\n",
    "column_metadata = np.load('surface_columns_metadata.npy')\n",
    "x = surface_data"
   ]
  },
  {
   "cell_type": "code",
   "execution_count": 16,
   "metadata": {},
   "outputs": [
    {
     "name": "stdout",
     "output_type": "stream",
     "text": [
      "['glmc_disimilarity' 'glmc_correlation' 'slope_max' 'slope_min'\n",
      " 'slope_variance' 'slope_skewness' 'slope_kurtosis' 'depression_max'\n",
      " 'depression_min' 'depression_variance' 'depression_skewness'\n",
      " 'depression_kurtosis' 'rise_max' 'rise_min' 'rise_variance'\n",
      " 'rise_skewness' 'rise_kurtosis']\n",
      "1121\n",
      "1121\n",
      "[3 3 1 ... 1 4 6]\n",
      "[[ 8.48888889e-01  5.76298653e-01  1.24109137e+00 ...  4.32285561e-02\n",
      "   3.33947263e+00  1.17195698e+01]\n",
      " [ 1.64577778e+00  6.23829561e-01  2.95775509e+00 ...  2.77062843e-01\n",
      "   3.76463185e+00  1.52806530e+01]\n",
      " [ 7.04888889e-01  9.52963985e-01  1.46502221e+00 ...  4.02601096e-03\n",
      "   8.21770885e+00  7.92508708e+01]\n",
      " ...\n",
      " [ 3.59511111e+00  9.63496310e-01  4.57757187e+00 ...  1.68606330e+01\n",
      "   2.84055930e+00  7.15618526e+00]\n",
      " [ 5.31111111e+00  9.94497067e-01  6.17361641e+00 ...  0.00000000e+00\n",
      "   0.00000000e+00 -3.00000000e+00]\n",
      " [ 4.60666667e+00  9.18648445e-01  7.48460436e+00 ...  3.22030190e-01\n",
      "   8.17963317e+00  7.81801442e+01]]\n"
     ]
    }
   ],
   "source": [
    "print(column_metadata)\n",
    "# Images that were defined as \"Indefinido\" are not included.\n",
    "print(len(surface_labels))\n",
    "print(len(x))\n",
    "print(surface_labels)\n",
    "print(x)"
   ]
  },
  {
   "cell_type": "code",
   "execution_count": 14,
   "metadata": {},
   "outputs": [],
   "source": [
    "# The surface labels values correspond to this array, e.g., if label value is '1'\n",
    "# it means is 'Plano'\n",
    "terrains = ('Indefinido', 'Plano', 'Bordes',\n",
    "           'Cráter pequeño', 'Cráter profundo', 'Colina', 'Montaña')"
   ]
  }
 ],
 "metadata": {
  "interpreter": {
   "hash": "732f00c41ec6febe1195a3ec4989d3211f40efb04fd77f25a6f0f8bfd6feb066"
  },
  "kernelspec": {
   "display_name": "Python 3.9.5 64-bit ('tf-gpu': conda)",
   "language": "python",
   "name": "python3"
  },
  "language_info": {
   "codemirror_mode": {
    "name": "ipython",
    "version": 3
   },
   "file_extension": ".py",
   "mimetype": "text/x-python",
   "name": "python",
   "nbconvert_exporter": "python",
   "pygments_lexer": "ipython3",
   "version": "3.9.5"
  },
  "orig_nbformat": 4
 },
 "nbformat": 4,
 "nbformat_minor": 2
}
