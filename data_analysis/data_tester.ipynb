{
 "cells": [
  {
   "cell_type": "code",
   "execution_count": 1,
   "metadata": {},
   "outputs": [],
   "source": [
    "import numpy as np\n",
    "\n",
    "terrain_data = np.load('terrain_data.npy')\n",
    "terrain_labels = np.load('terrain_data_labels.npy')\n",
    "nav_data = np.load('nav_data.npy')\n",
    "nav_labels = np.load('nav_data_labels.npy')\n",
    "column_metadata = np.load('surface_columns_metadata.npy')\n"
   ]
  },
  {
   "cell_type": "code",
   "execution_count": 2,
   "metadata": {},
   "outputs": [
    {
     "name": "stdout",
     "output_type": "stream",
     "text": [
      "['glmc_disimilarity' 'glmc_correlation' 'slope_max' 'slope_min'\n",
      " 'slope_variance' 'slope_skewness' 'slope_kurtosis' 'depression_max'\n",
      " 'depression_min' 'depression_variance' 'depression_skewness'\n",
      " 'depression_kurtosis' 'rise_max' 'rise_min' 'rise_variance'\n",
      " 'rise_skewness' 'rise_kurtosis']\n",
      "[1 2 3 4 5 6]\n",
      "2461\n",
      "2461\n",
      "[1 1 1 ... 5 5 6]\n",
      "[[ 4.01466667e+00  9.27683865e-01  1.13183451e+00 ...  0.00000000e+00\n",
      "   0.00000000e+00 -3.00000000e+00]\n",
      " [ 3.80000000e-01  5.14408932e-01  6.89634860e-01 ...  6.51166846e-02\n",
      "   2.78447792e+00  7.96182937e+00]\n",
      " [ 2.83244444e+00  9.77752120e-01  1.55150425e+00 ...  0.00000000e+00\n",
      "   0.00000000e+00 -3.00000000e+00]\n",
      " ...\n",
      " [ 1.90200000e+01  9.52784174e-01  1.00860100e+01 ...  5.50942587e-05\n",
      "   4.99699950e+01  2.49500040e+03]\n",
      " [ 1.42120000e+01  9.76560489e-01  6.54619455e+00 ...  0.00000000e+00\n",
      "   0.00000000e+00 -3.00000000e+00]\n",
      " [ 1.62142222e+01  9.80752159e-01  1.02224646e+01 ...  5.71018513e-01\n",
      "   8.77764545e+00  8.19697525e+01]]\n"
     ]
    }
   ],
   "source": [
    "print(column_metadata)\n",
    "# Images that were defined as \"Indefinido\" are not included.\n",
    "print(np.unique(terrain_labels))\n",
    "print(len(terrain_labels))\n",
    "print(len(terrain_data))\n",
    "print(terrain_labels)\n",
    "print(terrain_data)\n"
   ]
  },
  {
   "cell_type": "code",
   "execution_count": 4,
   "metadata": {},
   "outputs": [
    {
     "name": "stdout",
     "output_type": "stream",
     "text": [
      "['glmc_disimilarity' 'glmc_correlation' 'slope_max' 'slope_min'\n",
      " 'slope_variance' 'slope_skewness' 'slope_kurtosis' 'depression_max'\n",
      " 'depression_min' 'depression_variance' 'depression_skewness'\n",
      " 'depression_kurtosis' 'rise_max' 'rise_min' 'rise_variance'\n",
      " 'rise_skewness' 'rise_kurtosis']\n",
      "[1 2 3 4]\n",
      "856\n",
      "856\n",
      "[3 2 3 3 2 3 3 3 2 3 3 3 3 2 2 3 1 1 1 2 4 1 1 4 2 1 4 1 1 1 1 1 2 3 3 2 1\n",
      " 1 3 1 3 3 3 3 3 3 3 3 3 3 3 3 3 3 3 3 3 3 4 4 3 4 4 3 1 4 4 4 3 2 4 4 4 3\n",
      " 3 3 4 3 4 4 3 4 4 4 3 4 4 4 4 4 3 4 4 4 4 4 4 4 4 4 3 3 3 3 3 2 3 2 3 3 3\n",
      " 3 3 2 3 4 3 4 4 4 4 3 3 4 3 3 4 3 3 3 4 4 4 4 4 4 4 4 4 4 4 4 4 4 4 3 4 3\n",
      " 3 3 3 4 4 4 3 3 3 2 3 2 1 1 1 4 4 1 1 4 4 4 1 1 4 1 4 4 3 4 2 4 4 4 4 4 4\n",
      " 4 4 3 3 4 2 4 1 3 1 3 4 3 3 3 3 4 1 1 3 4 4 3 3 3 3 3 1 1 4 3 1 3 2 1 4 4\n",
      " 3 2 4 3 2 3 3 3 3 1 4 4 4 4 4 4 4 4 3 4 4 3 3 4 3 3 3 3 3 3 3 4 3 3 2 2 2\n",
      " 3 3 3 3 3 3 3 2 3 3 4 2 2 3 3 3 2 2 4 4 4 4 4 4 4 4 4 4 4 4 4 4 4 4 4 1 4\n",
      " 4 4 4 4 4 4 4 4 3 4 4 3 4 4 4 3 3 2 1 3 2 2 3 4 3 1 3 2 2 4 4 1 3 3 4 3 3\n",
      " 4 4 2 4 3 4 4 4 4 3 4 4 4 4 4 4 3 4 4 3 3 3 3 3 3 4 4 4 1 2 2 3 4 4 4 2 4\n",
      " 4 3 4 4 4 4 2 4 4 2 4 3 4 3 4 1 1 4 3 2 4 4 2 1 1 4 2 3 4 3 4 3 4 4 4 4 4\n",
      " 3 3 1 3 3 1 4 3 4 4 4 4 4 4 1 1 2 1 1 1 1 1 2 2 1 3 2 1 1 1 1 3 1 2 1 1 2\n",
      " 1 1 1 2 1 1 3 1 2 1 3 1 1 1 2 3 1 1 1 1 1 4 2 4 4 4 4 4 4 4 4 4 4 2 4 4 3\n",
      " 2 4 1 2 4 4 4 1 4 4 4 1 4 4 1 2 1 3 1 1 1 2 3 1 3 1 3 1 2 1 4 3 3 1 2 3 1\n",
      " 4 3 1 3 3 2 1 1 3 3 2 2 1 1 1 1 1 1 2 1 3 2 2 2 3 4 3 4 2 2 1 2 2 2 1 1 1\n",
      " 1 2 4 4 4 4 4 4 4 4 4 4 4 4 4 3 4 2 1 4 3 2 2 4 4 3 2 4 1 2 2 4 4 2 3 3 2\n",
      " 2 2 3 2 3 4 2 4 4 2 4 4 4 4 4 1 4 4 4 4 4 4 4 4 4 2 4 3 4 3 4 4 3 2 3 3 3\n",
      " 2 3 2 3 3 3 3 3 2 3 1 3 3 4 3 1 2 3 2 3 4 3 2 3 3 3 4 3 2 4 4 3 4 2 3 3 3\n",
      " 4 3 1 4 4 3 3 3 3 2 2 3 3 3 2 3 3 2 2 4 1 4 4 1 1 2 4 2 4 2 2 3 4 3 3 4 2\n",
      " 4 4 2 3 3 4 4 4 4 4 4 4 4 3 4 4 4 4 1 1 1 1 2 1 1 1 3 1 3 1 2 1 1 3 3 2 1\n",
      " 4 3 4 4 3 2 2 3 4 1 2 1 2 3 1 1 1 1 4 3 1 2 4 1 4 4 4 4 1 3 4 3 4 3 4 4 4\n",
      " 4 4 3 4 4 4 4 4 1 2 4 4 3 4 2 4 4 4 4 4 4 4 4 3 4 4 2 4 4 4 1 4 4 4 2 3 2\n",
      " 1 2 2 2 3 3 1 2 3 1 4 4 3 3 3 2 3 2 2 3 2 1 4 4 1 4 3 4 3 3 3 4 4 4 4 4 4\n",
      " 3 4 4 3 2]\n",
      "[[ 4.83333333e-01  2.92534622e-01  4.50827152e-01 ...  7.02246663e-03\n",
      "   3.89137872e+00  1.57848527e+01]\n",
      " [ 1.87400000e+01  5.64013066e-01  4.52301550e+00 ...  0.00000000e+00\n",
      "   0.00000000e+00 -3.00000000e+00]\n",
      " [ 7.86666667e-01  2.15727717e-02  8.92814517e-01 ...  3.06921858e-02\n",
      "   1.99402775e+00  3.34827338e+00]\n",
      " ...\n",
      " [ 2.82333333e+00  8.01003998e-01  1.74151933e+00 ...  2.03560462e-02\n",
      "   1.10041732e+01  1.46392641e+02]\n",
      " [ 3.71333333e+00  7.30600626e-01  2.40158463e+00 ...  1.37761884e-02\n",
      "   1.14174822e+01  1.56215757e+02]\n",
      " [ 7.00000000e-01  3.97560856e-01  8.06490123e-01 ...  2.41349347e-02\n",
      "   6.64281179e+00  5.88880112e+01]]\n"
     ]
    }
   ],
   "source": [
    "print(column_metadata)\n",
    "# Images that were defined as \"Indefinido\" are not included.\n",
    "print(np.unique(nav_labels))\n",
    "print(len(nav_labels))\n",
    "print(len(nav_data))\n",
    "print(nav_labels)\n",
    "print(nav_data)\n"
   ]
  },
  {
   "cell_type": "code",
   "execution_count": 4,
   "metadata": {},
   "outputs": [],
   "source": [
    "# The surface labels values correspond to this array, e.g., if label value is '1'\n",
    "# it means is 'Plano'\n",
    "terrains = ('Indefinido', 'Plano', 'Bordes',\n",
    "            'Cráter pequeño', 'Cráter profundo', 'Colina', 'Montaña')\n",
    "# Same here\n",
    "navs = ('Indefinido', 'Muy poco navegable', 'Poco navegable',\n",
    "        'Navegable', 'Muy navegable')\n"
   ]
  }
 ],
 "metadata": {
  "interpreter": {
   "hash": "732f00c41ec6febe1195a3ec4989d3211f40efb04fd77f25a6f0f8bfd6feb066"
  },
  "kernelspec": {
   "display_name": "Python 3.9.5 64-bit ('tf-gpu': conda)",
   "language": "python",
   "name": "python3"
  },
  "language_info": {
   "codemirror_mode": {
    "name": "ipython",
    "version": 3
   },
   "file_extension": ".py",
   "mimetype": "text/x-python",
   "name": "python",
   "nbconvert_exporter": "python",
   "pygments_lexer": "ipython3",
   "version": "3.9.5"
  },
  "orig_nbformat": 4
 },
 "nbformat": 4,
 "nbformat_minor": 2
}
