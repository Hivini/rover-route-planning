{
 "cells": [
  {
   "cell_type": "code",
   "execution_count": 8,
   "metadata": {},
   "outputs": [],
   "source": [
    "import numpy as np\n",
    "\n",
    "surface_data = np.load('surface_data.npy')\n",
    "surface_labels = np.load('surface_data_labels.npy')\n",
    "column_metadata = np.load('surface_columns_metadata.npy')\n",
    "x = surface_data"
   ]
  },
  {
   "cell_type": "code",
   "execution_count": 11,
   "metadata": {},
   "outputs": [
    {
     "name": "stdout",
     "output_type": "stream",
     "text": [
      "['glmc_disimilarity' 'glmc_correlation' 'slope_max' 'slope_min'\n",
      " 'slope_variance' 'slope_skewness' 'slope_kurtosis' 'depression_max'\n",
      " 'depression_min' 'depression_variance' 'depression_skewness'\n",
      " 'depression_kurtosis' 'rise_max' 'rise_min' 'rise_variance'\n",
      " 'rise_skewness' 'rise_kurtosis']\n",
      "90\n",
      "90\n",
      "[6 6 6 1 2 6 6 6 6 6 6 5 3 6 6 6 6 6 2 6 3 6 6 1 2 3 5 1 4 2 3 4 1 1 2 3 2\n",
      " 3 2 1 4 3 1 3 6 1 3 6 3 6 3 1 6 6 6 1 1 3 1 6 1 4 6 6 6 4 1 2 1 2 6 6 6 6\n",
      " 6 6 6 6 6 6 6 6 6 6 6 6 2 6 2 1]\n",
      "[[ 7.85066667e+00  9.63980571e-01  4.96278667e+00 ...  0.00000000e+00\n",
      "   0.00000000e+00 -3.00000000e+00]\n",
      " [ 6.64355556e+00  9.90643912e-01  6.36401892e+00 ...  0.00000000e+00\n",
      "   0.00000000e+00 -3.00000000e+00]\n",
      " [ 1.06346667e+01  9.21568440e-01  6.43318367e+00 ...  1.98768400e+01\n",
      "   2.99400604e+00  8.12224812e+00]\n",
      " ...\n",
      " [ 1.37546667e+01  9.55187184e-01  5.87666702e+00 ...  0.00000000e+00\n",
      "   0.00000000e+00 -3.00000000e+00]\n",
      " [ 9.92488889e+00  9.31797507e-01  4.34524012e+00 ...  1.28873582e-05\n",
      "   4.97581392e+01  2.48039399e+03]\n",
      " [ 7.00844444e+00  9.67578464e-01  3.57649803e+00 ...  5.61196987e-06\n",
      "   4.99699950e+01  2.49500040e+03]]\n"
     ]
    }
   ],
   "source": [
    "print(column_metadata)\n",
    "# Images that were defined as \"Indefinido\" are not included.\n",
    "print(len(surface_labels))\n",
    "print(len(x))\n",
    "print(surface_labels)\n",
    "print(x)"
   ]
  },
  {
   "cell_type": "code",
   "execution_count": 14,
   "metadata": {},
   "outputs": [],
   "source": [
    "# The surface labels values correspond to this array, e.g., if label value is '1'\n",
    "# it means is 'Plano'\n",
    "terrains = ('Indefinido', 'Plano', 'Bordes',\n",
    "           'Cráter pequeño', 'Cráter profundo', 'Colina', 'Montaña')"
   ]
  }
 ],
 "metadata": {
  "interpreter": {
   "hash": "732f00c41ec6febe1195a3ec4989d3211f40efb04fd77f25a6f0f8bfd6feb066"
  },
  "kernelspec": {
   "display_name": "Python 3.9.5 64-bit ('tf-gpu': conda)",
   "language": "python",
   "name": "python3"
  },
  "language_info": {
   "codemirror_mode": {
    "name": "ipython",
    "version": 3
   },
   "file_extension": ".py",
   "mimetype": "text/x-python",
   "name": "python",
   "nbconvert_exporter": "python",
   "pygments_lexer": "ipython3",
   "version": "3.9.5"
  },
  "orig_nbformat": 4
 },
 "nbformat": 4,
 "nbformat_minor": 2
}
