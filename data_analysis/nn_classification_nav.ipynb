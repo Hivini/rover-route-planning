{
 "cells": [
  {
   "cell_type": "code",
   "execution_count": 1,
   "metadata": {},
   "outputs": [
    {
     "name": "stderr",
     "output_type": "stream",
     "text": [
      "2021-11-13 18:05:52.022348: I tensorflow/stream_executor/platform/default/dso_loader.cc:49] Successfully opened dynamic library libcudart.so.10.1\n"
     ]
    },
    {
     "name": "stdout",
     "output_type": "stream",
     "text": [
      "(array([0, 1]), array([361, 759]))\n",
      "1120\n",
      "1120\n",
      "2\n",
      "10\n"
     ]
    }
   ],
   "source": [
    "import numpy as np\n",
    "\n",
    "# Same here\n",
    "navs = ('No navegable', 'Navegable')\n",
    "\n",
    "x = np.load('processed_nav_data.npy')\n",
    "y = np.load('nav_data_labels.npy')\n",
    "\n",
    "x_train, x_val, x_test = np.split(\n",
    "    np.array(x), [int(len(x)*0.7), int(len(x)*0.85)])\n",
    "y_train, y_val, y_test = np.split(\n",
    "    np.array(y), [int(len(y)*0.7), int(len(y)*0.85)])\n",
    "\n",
    "n_clases = len(navs)\n",
    "n_features = len(x[0])\n",
    "\n",
    "print(np.unique(y, return_counts=True))\n",
    "print(len(x))\n",
    "print(len(y))\n",
    "print(n_clases)\n",
    "print(n_features)"
   ]
  },
  {
   "cell_type": "code",
   "execution_count": 2,
   "metadata": {},
   "outputs": [
    {
     "name": "stderr",
     "output_type": "stream",
     "text": [
      "2021-11-13 18:05:53.318324: I tensorflow/compiler/jit/xla_cpu_device.cc:41] Not creating XLA devices, tf_xla_enable_xla_devices not set\n",
      "2021-11-13 18:05:53.327415: I tensorflow/stream_executor/platform/default/dso_loader.cc:49] Successfully opened dynamic library libcuda.so.1\n",
      "2021-11-13 18:05:53.776613: E tensorflow/stream_executor/cuda/cuda_gpu_executor.cc:927] could not open file to read NUMA node: /sys/bus/pci/devices/0000:01:00.0/numa_node\n",
      "Your kernel may have been built without NUMA support.\n",
      "2021-11-13 18:05:53.776653: I tensorflow/core/common_runtime/gpu/gpu_device.cc:1720] Found device 0 with properties: \n",
      "pciBusID: 0000:01:00.0 name: NVIDIA GeForce RTX 2080 with Max-Q Design computeCapability: 7.5\n",
      "coreClock: 1.215GHz coreCount: 46 deviceMemorySize: 8.00GiB deviceMemoryBandwidth: 357.69GiB/s\n",
      "2021-11-13 18:05:53.776683: I tensorflow/stream_executor/platform/default/dso_loader.cc:49] Successfully opened dynamic library libcudart.so.10.1\n",
      "2021-11-13 18:05:53.777896: I tensorflow/stream_executor/platform/default/dso_loader.cc:49] Successfully opened dynamic library libcublas.so.10\n",
      "2021-11-13 18:05:53.777930: I tensorflow/stream_executor/platform/default/dso_loader.cc:49] Successfully opened dynamic library libcublasLt.so.10\n",
      "2021-11-13 18:05:53.779019: I tensorflow/stream_executor/platform/default/dso_loader.cc:49] Successfully opened dynamic library libcufft.so.10\n",
      "2021-11-13 18:05:53.779233: I tensorflow/stream_executor/platform/default/dso_loader.cc:49] Successfully opened dynamic library libcurand.so.10\n",
      "2021-11-13 18:05:53.780532: I tensorflow/stream_executor/platform/default/dso_loader.cc:49] Successfully opened dynamic library libcusolver.so.10\n",
      "2021-11-13 18:05:53.781385: I tensorflow/stream_executor/platform/default/dso_loader.cc:49] Successfully opened dynamic library libcusparse.so.10\n",
      "2021-11-13 18:05:53.784207: I tensorflow/stream_executor/platform/default/dso_loader.cc:49] Successfully opened dynamic library libcudnn.so.7\n",
      "2021-11-13 18:05:53.785343: E tensorflow/stream_executor/cuda/cuda_gpu_executor.cc:927] could not open file to read NUMA node: /sys/bus/pci/devices/0000:01:00.0/numa_node\n",
      "Your kernel may have been built without NUMA support.\n",
      "2021-11-13 18:05:53.786261: E tensorflow/stream_executor/cuda/cuda_gpu_executor.cc:927] could not open file to read NUMA node: /sys/bus/pci/devices/0000:01:00.0/numa_node\n",
      "Your kernel may have been built without NUMA support.\n",
      "2021-11-13 18:05:53.786280: I tensorflow/core/common_runtime/gpu/gpu_device.cc:1862] Adding visible gpu devices: 0\n",
      "2021-11-13 18:05:53.787440: I tensorflow/core/platform/cpu_feature_guard.cc:142] This TensorFlow binary is optimized with oneAPI Deep Neural Network Library (oneDNN) to use the following CPU instructions in performance-critical operations:  SSE4.1 SSE4.2 AVX AVX2 FMA\n",
      "To enable them in other operations, rebuild TensorFlow with the appropriate compiler flags.\n",
      "2021-11-13 18:05:53.789683: E tensorflow/stream_executor/cuda/cuda_gpu_executor.cc:927] could not open file to read NUMA node: /sys/bus/pci/devices/0000:01:00.0/numa_node\n",
      "Your kernel may have been built without NUMA support.\n",
      "2021-11-13 18:05:53.789722: I tensorflow/core/common_runtime/gpu/gpu_device.cc:1720] Found device 0 with properties: \n",
      "pciBusID: 0000:01:00.0 name: NVIDIA GeForce RTX 2080 with Max-Q Design computeCapability: 7.5\n",
      "coreClock: 1.215GHz coreCount: 46 deviceMemorySize: 8.00GiB deviceMemoryBandwidth: 357.69GiB/s\n",
      "2021-11-13 18:05:53.789762: I tensorflow/stream_executor/platform/default/dso_loader.cc:49] Successfully opened dynamic library libcudart.so.10.1\n",
      "2021-11-13 18:05:53.789799: I tensorflow/stream_executor/platform/default/dso_loader.cc:49] Successfully opened dynamic library libcublas.so.10\n",
      "2021-11-13 18:05:53.789820: I tensorflow/stream_executor/platform/default/dso_loader.cc:49] Successfully opened dynamic library libcublasLt.so.10\n",
      "2021-11-13 18:05:53.789841: I tensorflow/stream_executor/platform/default/dso_loader.cc:49] Successfully opened dynamic library libcufft.so.10\n",
      "2021-11-13 18:05:53.789862: I tensorflow/stream_executor/platform/default/dso_loader.cc:49] Successfully opened dynamic library libcurand.so.10\n",
      "2021-11-13 18:05:53.789883: I tensorflow/stream_executor/platform/default/dso_loader.cc:49] Successfully opened dynamic library libcusolver.so.10\n",
      "2021-11-13 18:05:53.789906: I tensorflow/stream_executor/platform/default/dso_loader.cc:49] Successfully opened dynamic library libcusparse.so.10\n",
      "2021-11-13 18:05:53.789927: I tensorflow/stream_executor/platform/default/dso_loader.cc:49] Successfully opened dynamic library libcudnn.so.7\n",
      "2021-11-13 18:05:53.790768: E tensorflow/stream_executor/cuda/cuda_gpu_executor.cc:927] could not open file to read NUMA node: /sys/bus/pci/devices/0000:01:00.0/numa_node\n",
      "Your kernel may have been built without NUMA support.\n",
      "2021-11-13 18:05:53.791598: E tensorflow/stream_executor/cuda/cuda_gpu_executor.cc:927] could not open file to read NUMA node: /sys/bus/pci/devices/0000:01:00.0/numa_node\n",
      "Your kernel may have been built without NUMA support.\n",
      "2021-11-13 18:05:53.791618: I tensorflow/core/common_runtime/gpu/gpu_device.cc:1862] Adding visible gpu devices: 0\n",
      "2021-11-13 18:05:53.791657: I tensorflow/stream_executor/platform/default/dso_loader.cc:49] Successfully opened dynamic library libcudart.so.10.1\n",
      "2021-11-13 18:05:54.775599: I tensorflow/core/common_runtime/gpu/gpu_device.cc:1261] Device interconnect StreamExecutor with strength 1 edge matrix:\n",
      "2021-11-13 18:05:54.775622: I tensorflow/core/common_runtime/gpu/gpu_device.cc:1267]      0 \n",
      "2021-11-13 18:05:54.775627: I tensorflow/core/common_runtime/gpu/gpu_device.cc:1280] 0:   N \n",
      "2021-11-13 18:05:54.776934: E tensorflow/stream_executor/cuda/cuda_gpu_executor.cc:927] could not open file to read NUMA node: /sys/bus/pci/devices/0000:01:00.0/numa_node\n",
      "Your kernel may have been built without NUMA support.\n",
      "2021-11-13 18:05:54.776979: I tensorflow/core/common_runtime/gpu/gpu_device.cc:1489] Could not identify NUMA node of platform GPU id 0, defaulting to 0.  Your kernel may not have been built with NUMA support.\n",
      "2021-11-13 18:05:54.777767: E tensorflow/stream_executor/cuda/cuda_gpu_executor.cc:927] could not open file to read NUMA node: /sys/bus/pci/devices/0000:01:00.0/numa_node\n",
      "Your kernel may have been built without NUMA support.\n",
      "2021-11-13 18:05:54.778497: E tensorflow/stream_executor/cuda/cuda_gpu_executor.cc:927] could not open file to read NUMA node: /sys/bus/pci/devices/0000:01:00.0/numa_node\n",
      "Your kernel may have been built without NUMA support.\n",
      "2021-11-13 18:05:54.778553: I tensorflow/core/common_runtime/gpu/gpu_device.cc:1406] Created TensorFlow device (/job:localhost/replica:0/task:0/device:GPU:0 with 6575 MB memory) -> physical GPU (device: 0, name: NVIDIA GeForce RTX 2080 with Max-Q Design, pci bus id: 0000:01:00.0, compute capability: 7.5)\n",
      "2021-11-13 18:05:54.779814: I tensorflow/compiler/jit/xla_gpu_device.cc:99] Not creating XLA devices, tf_xla_enable_xla_devices not set\n"
     ]
    }
   ],
   "source": [
    "from keras.models import Sequential\n",
    "from keras.layers import Dense\n",
    "from keras.utils import np_utils\n",
    "from keras import backend\n",
    "\n",
    "# We want to make sure we start from the start when training our model everytime we run it.\n",
    "backend.clear_session()\n",
    "\n",
    "# Define MLP model\n",
    "model = Sequential()\n",
    "model.add(Dense(512, input_dim=n_features, activation='relu'))\n",
    "model.add(Dense(512, activation='relu'))\n",
    "model.add(Dense(512, activation='relu'))\n",
    "model.add(Dense(1, activation='sigmoid'))"
   ]
  },
  {
   "cell_type": "code",
   "execution_count": 3,
   "metadata": {},
   "outputs": [
    {
     "name": "stdout",
     "output_type": "stream",
     "text": [
      "Model: \"sequential\"\n",
      "_________________________________________________________________\n",
      "Layer (type)                 Output Shape              Param #   \n",
      "=================================================================\n",
      "dense (Dense)                (None, 512)               5632      \n",
      "_________________________________________________________________\n",
      "dense_1 (Dense)              (None, 512)               262656    \n",
      "_________________________________________________________________\n",
      "dense_2 (Dense)              (None, 512)               262656    \n",
      "_________________________________________________________________\n",
      "dense_3 (Dense)              (None, 1)                 513       \n",
      "=================================================================\n",
      "Total params: 531,457\n",
      "Trainable params: 531,457\n",
      "Non-trainable params: 0\n",
      "_________________________________________________________________\n"
     ]
    }
   ],
   "source": [
    "model.summary()"
   ]
  },
  {
   "cell_type": "code",
   "execution_count": 4,
   "metadata": {},
   "outputs": [],
   "source": [
    "from keras import optimizers\n",
    "\n",
    "lr_schedule = optimizers.schedules.ExponentialDecay(\n",
    "    initial_learning_rate=1e-5,\n",
    "    decay_steps=10000,\n",
    "    decay_rate=0.96)\n",
    "opt = optimizers.Adam(learning_rate=lr_schedule)\n",
    "model.compile(loss='binary_crossentropy',\n",
    "              optimizer=opt, metrics=['accuracy'])"
   ]
  },
  {
   "cell_type": "code",
   "execution_count": 5,
   "metadata": {},
   "outputs": [
    {
     "name": "stdout",
     "output_type": "stream",
     "text": [
      "[1.55124654 0.73781291]\n"
     ]
    },
    {
     "name": "stderr",
     "output_type": "stream",
     "text": [
      "/home/hivini/anaconda3/envs/tf-gpu/lib/python3.9/site-packages/sklearn/utils/validation.py:67: FutureWarning: Pass classes=[0 1], y=[1 0 1 ... 0 0 1] as keyword args. From version 0.25 passing these as positional arguments will result in an error\n",
      "  warnings.warn(\"Pass {} as keyword args. From version 0.25 \"\n"
     ]
    }
   ],
   "source": [
    "from keras.callbacks import EarlyStopping, ModelCheckpoint\n",
    "from sklearn.utils import class_weight\n",
    "\n",
    "es = EarlyStopping(monitor='val_accuracy', mode='min', verbose=1, patience=50)\n",
    "mc = ModelCheckpoint('nav_best_model.h5', monitor='val_accuracy',\n",
    "                     mode='max', verbose=1, save_best_only=True)\n",
    "# Fit model\n",
    "class_weights = class_weight.compute_class_weight('balanced',\n",
    "                                                  np.unique(y),\n",
    "                                                  y)\n",
    "print(class_weights)"
   ]
  },
  {
   "cell_type": "code",
   "execution_count": 6,
   "metadata": {},
   "outputs": [
    {
     "name": "stderr",
     "output_type": "stream",
     "text": [
      "2021-11-13 18:05:55.684079: I tensorflow/compiler/mlir/mlir_graph_optimization_pass.cc:116] None of the MLIR optimization passes are enabled (registered 2)\n",
      "2021-11-13 18:05:55.684447: I tensorflow/core/platform/profile_utils/cpu_utils.cc:112] CPU Frequency: 2208005000 Hz\n"
     ]
    },
    {
     "name": "stdout",
     "output_type": "stream",
     "text": [
      "Epoch 1/150\n"
     ]
    },
    {
     "name": "stderr",
     "output_type": "stream",
     "text": [
      "2021-11-13 18:05:56.034566: I tensorflow/stream_executor/platform/default/dso_loader.cc:49] Successfully opened dynamic library libcublas.so.10\n"
     ]
    },
    {
     "name": "stdout",
     "output_type": "stream",
     "text": [
      "784/784 [==============================] - 5s 5ms/step - loss: 0.6422 - accuracy: 0.4030 - val_loss: 0.6910 - val_accuracy: 0.5417\n",
      "\n",
      "Epoch 00001: val_accuracy improved from -inf to 0.54167, saving model to nav_best_model.h5\n",
      "Epoch 2/150\n",
      "784/784 [==============================] - 4s 6ms/step - loss: 0.5333 - accuracy: 0.7087 - val_loss: 0.6536 - val_accuracy: 0.6310\n",
      "\n",
      "Epoch 00002: val_accuracy improved from 0.54167 to 0.63095, saving model to nav_best_model.h5\n",
      "Epoch 3/150\n",
      "784/784 [==============================] - 4s 5ms/step - loss: 0.4928 - accuracy: 0.8091 - val_loss: 0.6205 - val_accuracy: 0.6667\n",
      "\n",
      "Epoch 00003: val_accuracy improved from 0.63095 to 0.66667, saving model to nav_best_model.h5\n",
      "Epoch 4/150\n",
      "784/784 [==============================] - 4s 6ms/step - loss: 0.4979 - accuracy: 0.7985 - val_loss: 0.6641 - val_accuracy: 0.6726\n",
      "\n",
      "Epoch 00004: val_accuracy improved from 0.66667 to 0.67262, saving model to nav_best_model.h5\n",
      "Epoch 5/150\n",
      "784/784 [==============================] - 4s 5ms/step - loss: 0.4566 - accuracy: 0.8268 - val_loss: 0.6663 - val_accuracy: 0.6905\n",
      "\n",
      "Epoch 00005: val_accuracy improved from 0.67262 to 0.69048, saving model to nav_best_model.h5\n",
      "Epoch 6/150\n",
      "784/784 [==============================] - 4s 5ms/step - loss: 0.4424 - accuracy: 0.8312 - val_loss: 0.6451 - val_accuracy: 0.7083\n",
      "\n",
      "Epoch 00006: val_accuracy improved from 0.69048 to 0.70833, saving model to nav_best_model.h5\n",
      "Epoch 7/150\n",
      "784/784 [==============================] - 4s 5ms/step - loss: 0.4577 - accuracy: 0.8336 - val_loss: 0.6620 - val_accuracy: 0.7024\n",
      "\n",
      "Epoch 00007: val_accuracy did not improve from 0.70833\n",
      "Epoch 8/150\n",
      "784/784 [==============================] - 4s 5ms/step - loss: 0.4410 - accuracy: 0.8477 - val_loss: 0.6610 - val_accuracy: 0.7143\n",
      "\n",
      "Epoch 00008: val_accuracy improved from 0.70833 to 0.71429, saving model to nav_best_model.h5\n",
      "Epoch 9/150\n",
      "784/784 [==============================] - 4s 5ms/step - loss: 0.4354 - accuracy: 0.8375 - val_loss: 0.6378 - val_accuracy: 0.7262\n",
      "\n",
      "Epoch 00009: val_accuracy improved from 0.71429 to 0.72619, saving model to nav_best_model.h5\n",
      "Epoch 10/150\n",
      "784/784 [==============================] - 4s 5ms/step - loss: 0.4156 - accuracy: 0.8499 - val_loss: 0.6606 - val_accuracy: 0.7143\n",
      "\n",
      "Epoch 00010: val_accuracy did not improve from 0.72619\n",
      "Epoch 11/150\n",
      "784/784 [==============================] - 4s 5ms/step - loss: 0.3757 - accuracy: 0.8737 - val_loss: 0.6239 - val_accuracy: 0.7321\n",
      "\n",
      "Epoch 00011: val_accuracy improved from 0.72619 to 0.73214, saving model to nav_best_model.h5\n",
      "Epoch 12/150\n",
      "784/784 [==============================] - 4s 5ms/step - loss: 0.4511 - accuracy: 0.8306 - val_loss: 0.6282 - val_accuracy: 0.7321\n",
      "\n",
      "Epoch 00012: val_accuracy did not improve from 0.73214\n",
      "Epoch 13/150\n",
      "784/784 [==============================] - 4s 5ms/step - loss: 0.3975 - accuracy: 0.8651 - val_loss: 0.6688 - val_accuracy: 0.7202\n",
      "\n",
      "Epoch 00013: val_accuracy did not improve from 0.73214\n",
      "Epoch 14/150\n",
      "784/784 [==============================] - 4s 5ms/step - loss: 0.4459 - accuracy: 0.8363 - val_loss: 0.6341 - val_accuracy: 0.7321\n",
      "\n",
      "Epoch 00014: val_accuracy did not improve from 0.73214\n",
      "Epoch 15/150\n",
      "784/784 [==============================] - 4s 5ms/step - loss: 0.3906 - accuracy: 0.8638 - val_loss: 0.6185 - val_accuracy: 0.7321\n",
      "\n",
      "Epoch 00015: val_accuracy did not improve from 0.73214\n",
      "Epoch 16/150\n",
      "784/784 [==============================] - 4s 5ms/step - loss: 0.4002 - accuracy: 0.8407 - val_loss: 0.6076 - val_accuracy: 0.7262\n",
      "\n",
      "Epoch 00016: val_accuracy did not improve from 0.73214\n",
      "Epoch 17/150\n",
      "784/784 [==============================] - 4s 5ms/step - loss: 0.3803 - accuracy: 0.8643 - val_loss: 0.6303 - val_accuracy: 0.7262\n",
      "\n",
      "Epoch 00017: val_accuracy did not improve from 0.73214\n",
      "Epoch 18/150\n",
      "784/784 [==============================] - 4s 5ms/step - loss: 0.3927 - accuracy: 0.8491 - val_loss: 0.6270 - val_accuracy: 0.7262\n",
      "\n",
      "Epoch 00018: val_accuracy did not improve from 0.73214\n",
      "Epoch 19/150\n",
      "784/784 [==============================] - 4s 5ms/step - loss: 0.3747 - accuracy: 0.8736 - val_loss: 0.6393 - val_accuracy: 0.7262\n",
      "\n",
      "Epoch 00019: val_accuracy did not improve from 0.73214\n",
      "Epoch 20/150\n",
      "784/784 [==============================] - 4s 5ms/step - loss: 0.3587 - accuracy: 0.8697 - val_loss: 0.6382 - val_accuracy: 0.7321\n",
      "\n",
      "Epoch 00020: val_accuracy did not improve from 0.73214\n",
      "Epoch 21/150\n",
      "784/784 [==============================] - 4s 5ms/step - loss: 0.3764 - accuracy: 0.8483 - val_loss: 0.6253 - val_accuracy: 0.7262\n",
      "\n",
      "Epoch 00021: val_accuracy did not improve from 0.73214\n",
      "Epoch 22/150\n",
      "784/784 [==============================] - 4s 5ms/step - loss: 0.3795 - accuracy: 0.8501 - val_loss: 0.6751 - val_accuracy: 0.7143\n",
      "\n",
      "Epoch 00022: val_accuracy did not improve from 0.73214\n",
      "Epoch 23/150\n",
      "784/784 [==============================] - 4s 5ms/step - loss: 0.3877 - accuracy: 0.8632 - val_loss: 0.6446 - val_accuracy: 0.7321\n",
      "\n",
      "Epoch 00023: val_accuracy did not improve from 0.73214\n",
      "Epoch 24/150\n",
      "784/784 [==============================] - 5s 7ms/step - loss: 0.3649 - accuracy: 0.8560 - val_loss: 0.6153 - val_accuracy: 0.7440\n",
      "\n",
      "Epoch 00024: val_accuracy improved from 0.73214 to 0.74405, saving model to nav_best_model.h5\n",
      "Epoch 25/150\n",
      "784/784 [==============================] - 6s 8ms/step - loss: 0.3403 - accuracy: 0.8691 - val_loss: 0.6526 - val_accuracy: 0.7321\n",
      "\n",
      "Epoch 00025: val_accuracy did not improve from 0.74405\n",
      "Epoch 26/150\n",
      "784/784 [==============================] - 6s 8ms/step - loss: 0.3320 - accuracy: 0.8786 - val_loss: 0.6523 - val_accuracy: 0.7321\n",
      "\n",
      "Epoch 00026: val_accuracy did not improve from 0.74405\n",
      "Epoch 27/150\n",
      "784/784 [==============================] - 7s 8ms/step - loss: 0.3474 - accuracy: 0.8618 - val_loss: 0.6241 - val_accuracy: 0.7381\n",
      "\n",
      "Epoch 00027: val_accuracy did not improve from 0.74405\n",
      "Epoch 28/150\n",
      "784/784 [==============================] - 7s 8ms/step - loss: 0.3452 - accuracy: 0.8672 - val_loss: 0.6749 - val_accuracy: 0.7262\n",
      "\n",
      "Epoch 00028: val_accuracy did not improve from 0.74405\n",
      "Epoch 29/150\n",
      "784/784 [==============================] - 4s 5ms/step - loss: 0.3317 - accuracy: 0.8640 - val_loss: 0.6724 - val_accuracy: 0.7262\n",
      "\n",
      "Epoch 00029: val_accuracy did not improve from 0.74405\n",
      "Epoch 30/150\n",
      "784/784 [==============================] - 4s 5ms/step - loss: 0.3356 - accuracy: 0.8718 - val_loss: 0.6123 - val_accuracy: 0.7321\n",
      "\n",
      "Epoch 00030: val_accuracy did not improve from 0.74405\n",
      "Epoch 31/150\n",
      "784/784 [==============================] - 4s 5ms/step - loss: 0.3342 - accuracy: 0.8673 - val_loss: 0.6697 - val_accuracy: 0.7202\n",
      "\n",
      "Epoch 00031: val_accuracy did not improve from 0.74405\n",
      "Epoch 32/150\n",
      "784/784 [==============================] - 4s 5ms/step - loss: 0.3510 - accuracy: 0.8528 - val_loss: 0.6315 - val_accuracy: 0.7381\n",
      "\n",
      "Epoch 00032: val_accuracy did not improve from 0.74405\n",
      "Epoch 33/150\n",
      "784/784 [==============================] - 4s 5ms/step - loss: 0.3541 - accuracy: 0.8596 - val_loss: 0.7215 - val_accuracy: 0.7024\n",
      "\n",
      "Epoch 00033: val_accuracy did not improve from 0.74405\n",
      "Epoch 34/150\n",
      "784/784 [==============================] - 4s 5ms/step - loss: 0.3628 - accuracy: 0.8406 - val_loss: 0.7024 - val_accuracy: 0.7262\n",
      "\n",
      "Epoch 00034: val_accuracy did not improve from 0.74405\n",
      "Epoch 35/150\n",
      "784/784 [==============================] - 5s 7ms/step - loss: 0.3411 - accuracy: 0.8602 - val_loss: 0.6756 - val_accuracy: 0.7202\n",
      "\n",
      "Epoch 00035: val_accuracy did not improve from 0.74405\n",
      "Epoch 36/150\n",
      "784/784 [==============================] - 4s 5ms/step - loss: 0.3493 - accuracy: 0.8715 - val_loss: 0.6823 - val_accuracy: 0.7143\n",
      "\n",
      "Epoch 00036: val_accuracy did not improve from 0.74405\n",
      "Epoch 37/150\n",
      "784/784 [==============================] - 6s 8ms/step - loss: 0.3264 - accuracy: 0.8695 - val_loss: 0.6438 - val_accuracy: 0.7321\n",
      "\n",
      "Epoch 00037: val_accuracy did not improve from 0.74405\n",
      "Epoch 38/150\n",
      "784/784 [==============================] - 5s 6ms/step - loss: 0.3276 - accuracy: 0.8815 - val_loss: 0.6525 - val_accuracy: 0.7262\n",
      "\n",
      "Epoch 00038: val_accuracy did not improve from 0.74405\n",
      "Epoch 39/150\n",
      "784/784 [==============================] - 4s 5ms/step - loss: 0.3250 - accuracy: 0.8729 - val_loss: 0.7008 - val_accuracy: 0.7202\n",
      "\n",
      "Epoch 00039: val_accuracy did not improve from 0.74405\n",
      "Epoch 40/150\n",
      "784/784 [==============================] - 4s 6ms/step - loss: 0.3360 - accuracy: 0.8757 - val_loss: 0.6618 - val_accuracy: 0.7202\n",
      "\n",
      "Epoch 00040: val_accuracy did not improve from 0.74405\n",
      "Epoch 41/150\n",
      "784/784 [==============================] - 4s 5ms/step - loss: 0.3648 - accuracy: 0.8637 - val_loss: 0.6488 - val_accuracy: 0.7202\n",
      "\n",
      "Epoch 00041: val_accuracy did not improve from 0.74405\n",
      "Epoch 42/150\n",
      "784/784 [==============================] - 4s 5ms/step - loss: 0.3369 - accuracy: 0.8667 - val_loss: 0.6663 - val_accuracy: 0.7262\n",
      "\n",
      "Epoch 00042: val_accuracy did not improve from 0.74405\n",
      "Epoch 43/150\n",
      "784/784 [==============================] - 4s 6ms/step - loss: 0.3232 - accuracy: 0.8722 - val_loss: 0.6438 - val_accuracy: 0.7262\n",
      "\n",
      "Epoch 00043: val_accuracy did not improve from 0.74405\n",
      "Epoch 44/150\n",
      "784/784 [==============================] - 4s 6ms/step - loss: 0.3015 - accuracy: 0.8722 - val_loss: 0.7327 - val_accuracy: 0.7024\n",
      "\n",
      "Epoch 00044: val_accuracy did not improve from 0.74405\n",
      "Epoch 45/150\n",
      "784/784 [==============================] - 5s 7ms/step - loss: 0.3265 - accuracy: 0.8604 - val_loss: 0.6552 - val_accuracy: 0.7202\n",
      "\n",
      "Epoch 00045: val_accuracy did not improve from 0.74405\n",
      "Epoch 46/150\n",
      "784/784 [==============================] - 4s 5ms/step - loss: 0.3280 - accuracy: 0.8675 - val_loss: 0.6958 - val_accuracy: 0.7262\n",
      "\n",
      "Epoch 00046: val_accuracy did not improve from 0.74405\n",
      "Epoch 47/150\n",
      "784/784 [==============================] - 4s 5ms/step - loss: 0.3524 - accuracy: 0.8527 - val_loss: 0.6654 - val_accuracy: 0.7321\n",
      "\n",
      "Epoch 00047: val_accuracy did not improve from 0.74405\n",
      "Epoch 48/150\n",
      "784/784 [==============================] - 5s 6ms/step - loss: 0.3443 - accuracy: 0.8530 - val_loss: 0.7074 - val_accuracy: 0.7024\n",
      "\n",
      "Epoch 00048: val_accuracy did not improve from 0.74405\n",
      "Epoch 49/150\n",
      "784/784 [==============================] - 4s 6ms/step - loss: 0.3181 - accuracy: 0.8734 - val_loss: 0.6999 - val_accuracy: 0.7202\n",
      "\n",
      "Epoch 00049: val_accuracy did not improve from 0.74405\n",
      "Epoch 50/150\n",
      "784/784 [==============================] - 5s 6ms/step - loss: 0.3137 - accuracy: 0.8677 - val_loss: 0.7196 - val_accuracy: 0.7024\n",
      "\n",
      "Epoch 00050: val_accuracy did not improve from 0.74405\n",
      "Epoch 51/150\n",
      "784/784 [==============================] - 5s 6ms/step - loss: 0.3497 - accuracy: 0.8702 - val_loss: 0.7003 - val_accuracy: 0.7143\n",
      "\n",
      "Epoch 00051: val_accuracy did not improve from 0.74405\n",
      "Epoch 00051: early stopping\n"
     ]
    }
   ],
   "source": [
    "history = model.fit(x_train, y_train, validation_data=(x_val, y_val), class_weight=(\n",
    "    dict(zip(np.unique(y), class_weights))), epochs=150, batch_size=1, callbacks=[es, mc])"
   ]
  },
  {
   "cell_type": "code",
   "execution_count": 7,
   "metadata": {},
   "outputs": [
    {
     "name": "stdout",
     "output_type": "stream",
     "text": [
      "6/6 [==============================] - 0s 4ms/step - loss: 0.6662 - accuracy: 0.6667\n",
      "Loss on test set:  0.6662001609802246\n",
      "Accuracy on test set:  0.6666666865348816\n"
     ]
    }
   ],
   "source": [
    "from tensorflow import keras\n",
    "\n",
    "model = keras.models.load_model('nav_best_model.h5')\n",
    "test_loss, test_acc = model.evaluate(x_test, y_test)\n",
    "print(\"Loss on test set: \", test_loss)\n",
    "print(\"Accuracy on test set: \", test_acc)"
   ]
  },
  {
   "cell_type": "code",
   "execution_count": 8,
   "metadata": {},
   "outputs": [
    {
     "data": {
      "image/png": "[encoded data removed]",
      "text/plain": [
       "<Figure size 432x288 with 1 Axes>"
      ]
     },
     "metadata": {
      "needs_background": "light"
     },
     "output_type": "display_data"
    }
   ],
   "source": [
    "import matplotlib.pyplot as plt\n",
    "\n",
    "acc = history.history['accuracy']\n",
    "val_acc = history.history['val_accuracy']\n",
    "loss = history.history['loss']\n",
    "val_loss = history.history['val_loss']\n",
    "\n",
    "epochs = range(1, len(acc) + 1)\n",
    "# bo is for blue dot.\n",
    "plt.plot(epochs, loss, 'g', label='Training loss')\n",
    "# b is for solid blue line\n",
    "plt.plot(epochs, val_loss, 'b', label='Validation loss')\n",
    "plt.title('Training and validation loss')\n",
    "plt.xlabel('Epochs')\n",
    "plt.ylabel('Loss')\n",
    "plt.legend()\n",
    "\n",
    "plt.show()\n"
   ]
  },
  {
   "cell_type": "code",
   "execution_count": 9,
   "metadata": {},
   "outputs": [
    {
     "data": {
      "image/png": "[encoded data removed]",
      "text/plain": [
       "<Figure size 432x288 with 1 Axes>"
      ]
     },
     "metadata": {
      "needs_background": "light"
     },
     "output_type": "display_data"
    }
   ],
   "source": [
    "plt.clf()\n",
    "\n",
    "plt.plot(epochs, acc, 'g', label='Training acc')\n",
    "plt.plot(epochs, val_acc, 'b', label='Validation acc')\n",
    "plt.title('Training and validation accuracy')\n",
    "plt.xlabel('Epochs')\n",
    "plt.ylabel('Loss')\n",
    "plt.legend()\n",
    "\n",
    "plt.show()\n"
   ]
  }
 ],
 "metadata": {
  "interpreter": {
   "hash": "732f00c41ec6febe1195a3ec4989d3211f40efb04fd77f25a6f0f8bfd6feb066"
  },
  "kernelspec": {
   "display_name": "Python 3.9.5 64-bit ('tf-gpu': conda)",
   "language": "python",
   "name": "python3"
  },
  "language_info": {
   "codemirror_mode": {
    "name": "ipython",
    "version": 3
   },
   "file_extension": ".py",
   "mimetype": "text/x-python",
   "name": "python",
   "nbconvert_exporter": "python",
   "pygments_lexer": "ipython3",
   "version": "3.9.5"
  },
  "orig_nbformat": 4
 },
 "nbformat": 4,
 "nbformat_minor": 2
}
