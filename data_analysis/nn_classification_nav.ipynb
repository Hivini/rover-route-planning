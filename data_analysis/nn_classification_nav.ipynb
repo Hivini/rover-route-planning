{
 "cells": [
  {
   "cell_type": "code",
   "execution_count": 1,
   "metadata": {},
   "outputs": [
    {
     "name": "stderr",
     "output_type": "stream",
     "text": [
      "2021-11-11 17:37:34.309303: I tensorflow/stream_executor/platform/default/dso_loader.cc:49] Successfully opened dynamic library libcudart.so.10.1\n"
     ]
    },
    {
     "name": "stdout",
     "output_type": "stream",
     "text": [
      "(array([0, 1, 2, 3]), array([139, 128, 253, 336]))\n",
      "856\n",
      "856\n",
      "4\n",
      "17\n"
     ]
    }
   ],
   "source": [
    "import numpy as np\n",
    "from sklearn.utils import shuffle\n",
    "from keras.utils import np_utils\n",
    "\n",
    "# Same here\n",
    "navs = ('Muy poco navegable', 'Poco navegable',\n",
    "        'Navegable', 'Muy navegable')\n",
    "\n",
    "x = np.load('nav_data.npy')\n",
    "y = np.load('nav_data_labels.npy')\n",
    "y = y-1\n",
    "\n",
    "x_train, x_val, x_test = np.split(\n",
    "    np.array(x), [int(len(x)*0.7), int(len(x)*0.85)])\n",
    "y_train, y_val, y_test = np.split(\n",
    "    np.array(y), [int(len(y)*0.7), int(len(y)*0.85)])\n",
    "\n",
    "\n",
    "y_train = np_utils.to_categorical(y_train)\n",
    "y_val = np_utils.to_categorical(y_val)\n",
    "y_test = np_utils.to_categorical(y_test)\n",
    "\n",
    "n_clases = len(navs)\n",
    "n_features = len(x[0])\n",
    "\n",
    "print(np.unique(y, return_counts=True))\n",
    "print(len(x))\n",
    "print(len(y))\n",
    "print(n_clases)\n",
    "print(n_features)"
   ]
  },
  {
   "cell_type": "code",
   "execution_count": 2,
   "metadata": {},
   "outputs": [
    {
     "name": "stderr",
     "output_type": "stream",
     "text": [
      "2021-11-11 17:37:36.779624: I tensorflow/compiler/jit/xla_cpu_device.cc:41] Not creating XLA devices, tf_xla_enable_xla_devices not set\n",
      "2021-11-11 17:37:36.792164: I tensorflow/stream_executor/platform/default/dso_loader.cc:49] Successfully opened dynamic library libcuda.so.1\n",
      "2021-11-11 17:37:37.328827: E tensorflow/stream_executor/cuda/cuda_gpu_executor.cc:927] could not open file to read NUMA node: /sys/bus/pci/devices/0000:01:00.0/numa_node\n",
      "Your kernel may have been built without NUMA support.\n",
      "2021-11-11 17:37:37.328900: I tensorflow/core/common_runtime/gpu/gpu_device.cc:1720] Found device 0 with properties: \n",
      "pciBusID: 0000:01:00.0 name: NVIDIA GeForce RTX 2080 with Max-Q Design computeCapability: 7.5\n",
      "coreClock: 1.215GHz coreCount: 46 deviceMemorySize: 8.00GiB deviceMemoryBandwidth: 357.69GiB/s\n",
      "2021-11-11 17:37:37.329034: I tensorflow/stream_executor/platform/default/dso_loader.cc:49] Successfully opened dynamic library libcudart.so.10.1\n",
      "2021-11-11 17:37:37.331565: I tensorflow/stream_executor/platform/default/dso_loader.cc:49] Successfully opened dynamic library libcublas.so.10\n",
      "2021-11-11 17:37:37.331685: I tensorflow/stream_executor/platform/default/dso_loader.cc:49] Successfully opened dynamic library libcublasLt.so.10\n",
      "2021-11-11 17:37:37.333709: I tensorflow/stream_executor/platform/default/dso_loader.cc:49] Successfully opened dynamic library libcufft.so.10\n",
      "2021-11-11 17:37:37.334388: I tensorflow/stream_executor/platform/default/dso_loader.cc:49] Successfully opened dynamic library libcurand.so.10\n",
      "2021-11-11 17:37:37.336474: I tensorflow/stream_executor/platform/default/dso_loader.cc:49] Successfully opened dynamic library libcusolver.so.10\n",
      "2021-11-11 17:37:37.337661: I tensorflow/stream_executor/platform/default/dso_loader.cc:49] Successfully opened dynamic library libcusparse.so.10\n",
      "2021-11-11 17:37:37.342487: I tensorflow/stream_executor/platform/default/dso_loader.cc:49] Successfully opened dynamic library libcudnn.so.7\n",
      "2021-11-11 17:37:37.343612: E tensorflow/stream_executor/cuda/cuda_gpu_executor.cc:927] could not open file to read NUMA node: /sys/bus/pci/devices/0000:01:00.0/numa_node\n",
      "Your kernel may have been built without NUMA support.\n",
      "2021-11-11 17:37:37.344404: E tensorflow/stream_executor/cuda/cuda_gpu_executor.cc:927] could not open file to read NUMA node: /sys/bus/pci/devices/0000:01:00.0/numa_node\n",
      "Your kernel may have been built without NUMA support.\n",
      "2021-11-11 17:37:37.344451: I tensorflow/core/common_runtime/gpu/gpu_device.cc:1862] Adding visible gpu devices: 0\n",
      "2021-11-11 17:37:37.345712: I tensorflow/core/platform/cpu_feature_guard.cc:142] This TensorFlow binary is optimized with oneAPI Deep Neural Network Library (oneDNN) to use the following CPU instructions in performance-critical operations:  SSE4.1 SSE4.2 AVX AVX2 FMA\n",
      "To enable them in other operations, rebuild TensorFlow with the appropriate compiler flags.\n",
      "2021-11-11 17:37:37.348262: E tensorflow/stream_executor/cuda/cuda_gpu_executor.cc:927] could not open file to read NUMA node: /sys/bus/pci/devices/0000:01:00.0/numa_node\n",
      "Your kernel may have been built without NUMA support.\n",
      "2021-11-11 17:37:37.348323: I tensorflow/core/common_runtime/gpu/gpu_device.cc:1720] Found device 0 with properties: \n",
      "pciBusID: 0000:01:00.0 name: NVIDIA GeForce RTX 2080 with Max-Q Design computeCapability: 7.5\n",
      "coreClock: 1.215GHz coreCount: 46 deviceMemorySize: 8.00GiB deviceMemoryBandwidth: 357.69GiB/s\n",
      "2021-11-11 17:37:37.348416: I tensorflow/stream_executor/platform/default/dso_loader.cc:49] Successfully opened dynamic library libcudart.so.10.1\n",
      "2021-11-11 17:37:37.348472: I tensorflow/stream_executor/platform/default/dso_loader.cc:49] Successfully opened dynamic library libcublas.so.10\n",
      "2021-11-11 17:37:37.348494: I tensorflow/stream_executor/platform/default/dso_loader.cc:49] Successfully opened dynamic library libcublasLt.so.10\n",
      "2021-11-11 17:37:37.348512: I tensorflow/stream_executor/platform/default/dso_loader.cc:49] Successfully opened dynamic library libcufft.so.10\n",
      "2021-11-11 17:37:37.348530: I tensorflow/stream_executor/platform/default/dso_loader.cc:49] Successfully opened dynamic library libcurand.so.10\n",
      "2021-11-11 17:37:37.348549: I tensorflow/stream_executor/platform/default/dso_loader.cc:49] Successfully opened dynamic library libcusolver.so.10\n",
      "2021-11-11 17:37:37.348571: I tensorflow/stream_executor/platform/default/dso_loader.cc:49] Successfully opened dynamic library libcusparse.so.10\n",
      "2021-11-11 17:37:37.348590: I tensorflow/stream_executor/platform/default/dso_loader.cc:49] Successfully opened dynamic library libcudnn.so.7\n",
      "2021-11-11 17:37:37.349357: E tensorflow/stream_executor/cuda/cuda_gpu_executor.cc:927] could not open file to read NUMA node: /sys/bus/pci/devices/0000:01:00.0/numa_node\n",
      "Your kernel may have been built without NUMA support.\n",
      "2021-11-11 17:37:37.350572: E tensorflow/stream_executor/cuda/cuda_gpu_executor.cc:927] could not open file to read NUMA node: /sys/bus/pci/devices/0000:01:00.0/numa_node\n",
      "Your kernel may have been built without NUMA support.\n",
      "2021-11-11 17:37:37.350636: I tensorflow/core/common_runtime/gpu/gpu_device.cc:1862] Adding visible gpu devices: 0\n",
      "2021-11-11 17:37:37.350860: I tensorflow/stream_executor/platform/default/dso_loader.cc:49] Successfully opened dynamic library libcudart.so.10.1\n",
      "2021-11-11 17:37:38.646968: I tensorflow/core/common_runtime/gpu/gpu_device.cc:1261] Device interconnect StreamExecutor with strength 1 edge matrix:\n",
      "2021-11-11 17:37:38.647006: I tensorflow/core/common_runtime/gpu/gpu_device.cc:1267]      0 \n",
      "2021-11-11 17:37:38.647014: I tensorflow/core/common_runtime/gpu/gpu_device.cc:1280] 0:   N \n",
      "2021-11-11 17:37:38.648099: E tensorflow/stream_executor/cuda/cuda_gpu_executor.cc:927] could not open file to read NUMA node: /sys/bus/pci/devices/0000:01:00.0/numa_node\n",
      "Your kernel may have been built without NUMA support.\n",
      "2021-11-11 17:37:38.648131: I tensorflow/core/common_runtime/gpu/gpu_device.cc:1489] Could not identify NUMA node of platform GPU id 0, defaulting to 0.  Your kernel may not have been built with NUMA support.\n",
      "2021-11-11 17:37:38.648775: E tensorflow/stream_executor/cuda/cuda_gpu_executor.cc:927] could not open file to read NUMA node: /sys/bus/pci/devices/0000:01:00.0/numa_node\n",
      "Your kernel may have been built without NUMA support.\n",
      "2021-11-11 17:37:38.649477: E tensorflow/stream_executor/cuda/cuda_gpu_executor.cc:927] could not open file to read NUMA node: /sys/bus/pci/devices/0000:01:00.0/numa_node\n",
      "Your kernel may have been built without NUMA support.\n",
      "2021-11-11 17:37:38.649546: I tensorflow/core/common_runtime/gpu/gpu_device.cc:1406] Created TensorFlow device (/job:localhost/replica:0/task:0/device:GPU:0 with 6575 MB memory) -> physical GPU (device: 0, name: NVIDIA GeForce RTX 2080 with Max-Q Design, pci bus id: 0000:01:00.0, compute capability: 7.5)\n",
      "2021-11-11 17:37:38.650913: I tensorflow/compiler/jit/xla_gpu_device.cc:99] Not creating XLA devices, tf_xla_enable_xla_devices not set\n"
     ]
    }
   ],
   "source": [
    "from keras.models import Sequential\n",
    "from keras.layers import Dense\n",
    "from keras.utils import np_utils\n",
    "from keras import backend\n",
    "\n",
    "# We want to make sure we start from the start when training our model everytime we run it.\n",
    "backend.clear_session()\n",
    "\n",
    "# Define MLP model\n",
    "model = Sequential()\n",
    "model.add(Dense(256, input_dim=n_features, activation='relu'))\n",
    "model.add(Dense(64, activation='relu'))\n",
    "model.add(Dense(32, activation='relu'))\n",
    "model.add(Dense(n_clases, activation='softmax'))"
   ]
  },
  {
   "cell_type": "code",
   "execution_count": 3,
   "metadata": {},
   "outputs": [
    {
     "name": "stdout",
     "output_type": "stream",
     "text": [
      "Model: \"sequential\"\n",
      "_________________________________________________________________\n",
      "Layer (type)                 Output Shape              Param #   \n",
      "=================================================================\n",
      "dense (Dense)                (None, 256)               4608      \n",
      "_________________________________________________________________\n",
      "dense_1 (Dense)              (None, 64)                16448     \n",
      "_________________________________________________________________\n",
      "dense_2 (Dense)              (None, 32)                2080      \n",
      "_________________________________________________________________\n",
      "dense_3 (Dense)              (None, 4)                 132       \n",
      "=================================================================\n",
      "Total params: 23,268\n",
      "Trainable params: 23,268\n",
      "Non-trainable params: 0\n",
      "_________________________________________________________________\n"
     ]
    }
   ],
   "source": [
    "model.summary()"
   ]
  },
  {
   "cell_type": "code",
   "execution_count": 4,
   "metadata": {},
   "outputs": [],
   "source": [
    "# Compile model\n",
    "model.compile(loss='categorical_crossentropy',\n",
    "              optimizer='adam', metrics=['accuracy'])"
   ]
  },
  {
   "cell_type": "code",
   "execution_count": 5,
   "metadata": {},
   "outputs": [
    {
     "name": "stderr",
     "output_type": "stream",
     "text": [
      "2021-11-11 17:37:39.896296: I tensorflow/compiler/mlir/mlir_graph_optimization_pass.cc:116] None of the MLIR optimization passes are enabled (registered 2)\n",
      "2021-11-11 17:37:39.897427: I tensorflow/core/platform/profile_utils/cpu_utils.cc:112] CPU Frequency: 2208005000 Hz\n"
     ]
    },
    {
     "name": "stdout",
     "output_type": "stream",
     "text": [
      "Epoch 1/150\n"
     ]
    },
    {
     "name": "stderr",
     "output_type": "stream",
     "text": [
      "2021-11-11 17:37:40.847532: I tensorflow/stream_executor/platform/default/dso_loader.cc:49] Successfully opened dynamic library libcublas.so.10\n"
     ]
    },
    {
     "name": "stdout",
     "output_type": "stream",
     "text": [
      "300/300 [==============================] - 5s 13ms/step - loss: 2.4608 - accuracy: 0.3420 - val_loss: 1.4807 - val_accuracy: 0.3984\n",
      "Epoch 2/150\n",
      "300/300 [==============================] - 3s 10ms/step - loss: 1.9288 - accuracy: 0.4905 - val_loss: 1.7527 - val_accuracy: 0.3438\n",
      "Epoch 3/150\n",
      "300/300 [==============================] - 3s 10ms/step - loss: 1.7256 - accuracy: 0.4954 - val_loss: 1.5657 - val_accuracy: 0.4297\n",
      "Epoch 4/150\n",
      "300/300 [==============================] - 3s 10ms/step - loss: 1.3925 - accuracy: 0.5431 - val_loss: 1.4230 - val_accuracy: 0.4531\n",
      "Epoch 5/150\n",
      "300/300 [==============================] - 3s 10ms/step - loss: 1.1905 - accuracy: 0.5255 - val_loss: 1.5379 - val_accuracy: 0.4297\n",
      "Epoch 6/150\n",
      "300/300 [==============================] - 3s 10ms/step - loss: 1.2285 - accuracy: 0.5259 - val_loss: 1.2787 - val_accuracy: 0.3984\n",
      "Epoch 7/150\n",
      "300/300 [==============================] - 3s 10ms/step - loss: 1.0786 - accuracy: 0.4900 - val_loss: 1.2784 - val_accuracy: 0.4141\n",
      "Epoch 8/150\n",
      "300/300 [==============================] - 3s 10ms/step - loss: 1.1215 - accuracy: 0.5339 - val_loss: 1.5046 - val_accuracy: 0.4141\n",
      "Epoch 9/150\n",
      "300/300 [==============================] - 3s 10ms/step - loss: 1.0893 - accuracy: 0.5390 - val_loss: 1.3255 - val_accuracy: 0.3906\n",
      "Epoch 10/150\n",
      "300/300 [==============================] - 3s 10ms/step - loss: 1.0215 - accuracy: 0.5460 - val_loss: 1.3147 - val_accuracy: 0.3828\n",
      "Epoch 11/150\n",
      "300/300 [==============================] - 3s 10ms/step - loss: 0.9374 - accuracy: 0.5904 - val_loss: 1.5941 - val_accuracy: 0.4219\n",
      "Epoch 12/150\n",
      "300/300 [==============================] - 3s 9ms/step - loss: 1.0024 - accuracy: 0.5766 - val_loss: 1.2911 - val_accuracy: 0.3984\n",
      "Epoch 13/150\n",
      "300/300 [==============================] - 3s 9ms/step - loss: 0.9114 - accuracy: 0.5683 - val_loss: 1.4405 - val_accuracy: 0.4062\n",
      "Epoch 14/150\n",
      "300/300 [==============================] - 3s 10ms/step - loss: 0.9288 - accuracy: 0.5770 - val_loss: 1.5667 - val_accuracy: 0.4219\n",
      "Epoch 15/150\n",
      "300/300 [==============================] - 3s 10ms/step - loss: 1.1056 - accuracy: 0.5767 - val_loss: 1.4839 - val_accuracy: 0.4453\n",
      "Epoch 16/150\n",
      "300/300 [==============================] - 3s 9ms/step - loss: 0.8775 - accuracy: 0.6354 - val_loss: 1.6739 - val_accuracy: 0.4609\n",
      "Epoch 17/150\n",
      "300/300 [==============================] - 3s 10ms/step - loss: 0.9768 - accuracy: 0.5978 - val_loss: 1.3862 - val_accuracy: 0.4453\n",
      "Epoch 18/150\n",
      "300/300 [==============================] - 3s 10ms/step - loss: 0.8850 - accuracy: 0.5982 - val_loss: 1.4998 - val_accuracy: 0.4609\n",
      "Epoch 19/150\n",
      "300/300 [==============================] - 3s 10ms/step - loss: 0.8196 - accuracy: 0.6298 - val_loss: 1.5211 - val_accuracy: 0.4062\n",
      "Epoch 20/150\n",
      "300/300 [==============================] - 3s 10ms/step - loss: 0.8523 - accuracy: 0.6215 - val_loss: 1.6428 - val_accuracy: 0.4375\n",
      "Epoch 21/150\n",
      "300/300 [==============================] - 3s 10ms/step - loss: 0.9025 - accuracy: 0.6082 - val_loss: 1.4665 - val_accuracy: 0.4297\n",
      "Epoch 22/150\n",
      "300/300 [==============================] - 3s 10ms/step - loss: 0.8402 - accuracy: 0.6306 - val_loss: 1.6142 - val_accuracy: 0.4219\n",
      "Epoch 23/150\n",
      "300/300 [==============================] - 3s 10ms/step - loss: 0.8570 - accuracy: 0.6511 - val_loss: 1.8009 - val_accuracy: 0.4375\n",
      "Epoch 24/150\n",
      "300/300 [==============================] - 3s 11ms/step - loss: 0.7865 - accuracy: 0.6593 - val_loss: 1.5521 - val_accuracy: 0.4062\n",
      "Epoch 25/150\n",
      "300/300 [==============================] - 3s 10ms/step - loss: 0.8114 - accuracy: 0.6141 - val_loss: 1.5133 - val_accuracy: 0.4609\n",
      "Epoch 26/150\n",
      "300/300 [==============================] - 3s 10ms/step - loss: 0.7886 - accuracy: 0.6526 - val_loss: 1.8749 - val_accuracy: 0.4375\n",
      "Epoch 27/150\n",
      "300/300 [==============================] - 3s 10ms/step - loss: 1.1275 - accuracy: 0.6181 - val_loss: 1.7575 - val_accuracy: 0.4219\n",
      "Epoch 00027: early stopping\n"
     ]
    }
   ],
   "source": [
    "from keras.callbacks import EarlyStopping\n",
    "from sklearn.utils import class_weight\n",
    "es = EarlyStopping(monitor='val_loss', mode='min', verbose=1, patience=20)\n",
    "# # Fit model\n",
    "# class_weights = class_weight.compute_class_weight('balanced',\n",
    "#                                                   np.unique(y),\n",
    "#                                                   y)\n",
    "history = model.fit(x_train, y_train, validation_data=(x_val, y_val), epochs=150, batch_size=2, callbacks=[es])\n",
    "#dict(zip(np.unique(y), class_weights))),"
   ]
  },
  {
   "cell_type": "code",
   "execution_count": 6,
   "metadata": {},
   "outputs": [
    {
     "name": "stdout",
     "output_type": "stream",
     "text": [
      "5/5 [==============================] - 0s 6ms/step - loss: 2.7121 - accuracy: 0.3721\n",
      "Loss on test set:  2.7121286392211914\n",
      "Accuracy on test set:  0.3720930218696594\n"
     ]
    }
   ],
   "source": [
    "test_loss, test_acc = model.evaluate(x_test, y_test)\n",
    "print(\"Loss on test set: \", test_loss)\n",
    "print(\"Accuracy on test set: \", test_acc)"
   ]
  },
  {
   "cell_type": "code",
   "execution_count": 7,
   "metadata": {},
   "outputs": [
    {
     "data": {
      "image/png": "[encoded data removed]",
      "text/plain": [
       "<Figure size 432x288 with 1 Axes>"
      ]
     },
     "metadata": {
      "needs_background": "light"
     },
     "output_type": "display_data"
    }
   ],
   "source": [
    "import matplotlib.pyplot as plt\n",
    "\n",
    "acc = history.history['accuracy']\n",
    "val_acc = history.history['val_accuracy']\n",
    "loss = history.history['loss']\n",
    "val_loss = history.history['val_loss']\n",
    "\n",
    "epochs = range(1, len(acc) + 1)\n",
    "# bo is for blue dot.\n",
    "plt.plot(epochs, loss, 'g', label='Training loss')\n",
    "# b is for solid blue line\n",
    "plt.plot(epochs, val_loss, 'b', label='Validation loss')\n",
    "plt.title('Training and validation loss')\n",
    "plt.xlabel('Epochs')\n",
    "plt.ylabel('Loss')\n",
    "plt.legend()\n",
    "\n",
    "plt.show()\n"
   ]
  },
  {
   "cell_type": "code",
   "execution_count": 8,
   "metadata": {},
   "outputs": [
    {
     "data": {
      "image/png": "[encoded data removed]",
      "text/plain": [
       "<Figure size 432x288 with 1 Axes>"
      ]
     },
     "metadata": {
      "needs_background": "light"
     },
     "output_type": "display_data"
    }
   ],
   "source": [
    "plt.clf()\n",
    "\n",
    "plt.plot(epochs, acc, 'g', label='Training acc')\n",
    "plt.plot(epochs, val_acc, 'b', label='Validation acc')\n",
    "plt.title('Training and validation accuracy')\n",
    "plt.xlabel('Epochs')\n",
    "plt.ylabel('Loss')\n",
    "plt.legend()\n",
    "\n",
    "plt.show()\n"
   ]
  }
 ],
 "metadata": {
  "interpreter": {
   "hash": "732f00c41ec6febe1195a3ec4989d3211f40efb04fd77f25a6f0f8bfd6feb066"
  },
  "kernelspec": {
   "display_name": "Python 3.9.5 64-bit ('tf-gpu': conda)",
   "language": "python",
   "name": "python3"
  },
  "language_info": {
   "codemirror_mode": {
    "name": "ipython",
    "version": 3
   },
   "file_extension": ".py",
   "mimetype": "text/x-python",
   "name": "python",
   "nbconvert_exporter": "python",
   "pygments_lexer": "ipython3",
   "version": "3.9.5"
  },
  "orig_nbformat": 4
 },
 "nbformat": 4,
 "nbformat_minor": 2
}
