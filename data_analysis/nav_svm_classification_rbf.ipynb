{
 "cells": [
  {
   "cell_type": "code",
   "execution_count": 1,
   "metadata": {},
   "outputs": [],
   "source": [
    "import numpy as np\n",
    "\n",
    "nav_data = np.load(f'processed_nav_data.npy')\n",
    "nav_labels = np.load(f'nav_data_labels.npy')\n",
    "navs_columns = np.load('navs_columns_metadata.npy')"
   ]
  },
  {
   "cell_type": "code",
   "execution_count": 2,
   "metadata": {},
   "outputs": [
    {
     "name": "stdout",
     "output_type": "stream",
     "text": [
      "Confusion matrix\n",
      " [[ 18  64]\n",
      " [  0 131]]\n",
      "Confusion matrix\n",
      " [[ 24  57]\n",
      " [  0 131]]\n",
      "Confusion matrix\n",
      " [[ 20  61]\n",
      " [  0 131]]\n",
      "Confusion matrix\n",
      " [[ 31  50]\n",
      " [  1 130]]\n",
      "Acc:  0.7255901762777925\n",
      "Precision:  [0.9921875  0.69327932]\n",
      "Recall:  [0.28635953 0.9980916 ]\n"
     ]
    }
   ],
   "source": [
    "import pickle\n",
    "from sklearn import svm\n",
    "from sklearn.model_selection import StratifiedKFold\n",
    "from sklearn.metrics import confusion_matrix\n",
    "\n",
    "foldsNum = 4\n",
    "kf = StratifiedKFold(n_splits=foldsNum, shuffle = True)\n",
    "clf = svm.SVC(kernel = 'linear', class_weight='balanced')\n",
    "acc = 0\n",
    "n_classes = len(np.unique(nav_labels))\n",
    "recall = np.zeros(n_classes)\n",
    "precision = np.zeros(n_classes)\n",
    "for train_index, test_index in kf.split(nav_data, nav_labels):\n",
    "    \n",
    "    # Training phase\n",
    "    x_train = nav_data[train_index, :]\n",
    "    y_train = nav_labels[train_index]\n",
    "    clf.fit(x_train, y_train)\n",
    "\n",
    "    # Test phase\n",
    "    x_test = nav_data[test_index, :]\n",
    "    y_test = nav_labels[test_index]    \n",
    "    y_pred = clf.predict(x_test)\n",
    "    # Calculate confusion matrix and model performance\n",
    "    cm = confusion_matrix(y_test, y_pred)\n",
    "    print('Confusion matrix\\n', cm)\n",
    "\n",
    "    accSum = 0\n",
    "    for i in range(n_classes):\n",
    "        accSum += cm[i,i]\n",
    "    acc += accSum / len(y_test)\n",
    "\n",
    "    for i in range(n_classes):\n",
    "        innerSum = 0\n",
    "        for y in range(n_classes):\n",
    "            innerSum += cm[i,y]\n",
    "        recall[i] += cm[i,i]/innerSum\n",
    "\n",
    "    for i in range(n_classes):\n",
    "        innerSum = 0\n",
    "        for y in range(n_classes):\n",
    "            innerSum += cm[y,i]\n",
    "        precision[i] += cm[i,i]/innerSum\n",
    "\n",
    "# Print results\n",
    "acc = acc/foldsNum\n",
    "print('Acc: ', acc)\n",
    "precision = precision/foldsNum\n",
    "print('Precision: ', precision)\n",
    "recall = recall/foldsNum\n",
    "print('Recall: ', recall)\n",
    "\n",
    "\n",
    "with open(f'nav_svm_rbf.pkl', 'wb') as f:\n",
    "    pickle.dump(clf, f)"
   ]
  }
 ],
 "metadata": {
  "interpreter": {
   "hash": "732f00c41ec6febe1195a3ec4989d3211f40efb04fd77f25a6f0f8bfd6feb066"
  },
  "kernelspec": {
   "display_name": "Python 3.9.5 64-bit ('tf-gpu': conda)",
   "language": "python",
   "name": "python3"
  },
  "language_info": {
   "codemirror_mode": {
    "name": "ipython",
    "version": 3
   },
   "file_extension": ".py",
   "mimetype": "text/x-python",
   "name": "python",
   "nbconvert_exporter": "python",
   "pygments_lexer": "ipython3",
   "version": "3.9.5"
  },
  "orig_nbformat": 4
 },
 "nbformat": 4,
 "nbformat_minor": 2
}
