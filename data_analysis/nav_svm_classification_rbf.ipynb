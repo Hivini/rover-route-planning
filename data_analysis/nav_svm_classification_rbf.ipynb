{
 "cells": [
  {
   "cell_type": "code",
   "execution_count": 1,
   "metadata": {},
   "outputs": [],
   "source": [
    "import numpy as np\n",
    "\n",
    "nav_data = np.load(f'processed_nav_data.npy')\n",
    "nav_labels = np.load(f'nav_data_labels.npy')\n",
    "navs_columns = np.load('navs_columns_metadata.npy')"
   ]
  },
  {
   "cell_type": "code",
   "execution_count": 12,
   "metadata": {},
   "outputs": [
    {
     "name": "stdout",
     "output_type": "stream",
     "text": [
      "SVM Radial Accuracy:  0.7964285714285714\n",
      "{'fit_time': array([0.04298425, 0.03017163, 0.03570628, 0.04265571]),\n",
      " 'score_time': array([0.00938296, 0.00950336, 0.00971055, 0.01044512]),\n",
      " 'test_accuracy': array([0.85      , 0.8       , 0.81071429, 0.725     ]),\n",
      " 'test_recall_micro': array([0.85      , 0.8       , 0.81071429, 0.725     ])}\n"
     ]
    }
   ],
   "source": [
    "import pickle\n",
    "from pprint import pprint\n",
    "from sklearn import svm\n",
    "from sklearn.model_selection import cross_validate\n",
    "\n",
    "CV = 4\n",
    "\n",
    "clf = svm.SVC(kernel = 'rbf', class_weight='balanced')\n",
    "cv_results = cross_validate(clf, nav_data, nav_labels, cv=CV, scoring=('accuracy', 'recall_micro'))\n",
    "print('SVM Radial Accuracy: ', cv_results['test_accuracy'].sum()/CV)\n",
    "pprint(cv_results)\n",
    "\n",
    "with open(f'nav_svm_rbf.pkl', 'wb') as f:\n",
    "    pickle.dump(clf, f)"
   ]
  }
 ],
 "metadata": {
  "interpreter": {
   "hash": "732f00c41ec6febe1195a3ec4989d3211f40efb04fd77f25a6f0f8bfd6feb066"
  },
  "kernelspec": {
   "display_name": "Python 3.9.5 64-bit ('tf-gpu': conda)",
   "language": "python",
   "name": "python3"
  },
  "language_info": {
   "codemirror_mode": {
    "name": "ipython",
    "version": 3
   },
   "file_extension": ".py",
   "mimetype": "text/x-python",
   "name": "python",
   "nbconvert_exporter": "python",
   "pygments_lexer": "ipython3",
   "version": "3.9.5"
  },
  "orig_nbformat": 4
 },
 "nbformat": 4,
 "nbformat_minor": 2
}
