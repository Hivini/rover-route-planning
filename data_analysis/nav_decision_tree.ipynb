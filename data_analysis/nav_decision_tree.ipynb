{
 "cells": [
  {
   "cell_type": "code",
   "execution_count": 1,
   "metadata": {},
   "outputs": [],
   "source": [
    "import numpy as np\n",
    "\n",
    "nav_data = np.load(f'processed_nav_data.npy')\n",
    "nav_labels = np.load(f'nav_data_labels.npy')\n",
    "navs_columns = np.load('navs_columns_metadata.npy')"
   ]
  },
  {
   "cell_type": "markdown",
   "metadata": {},
   "source": [
    "# Decision Tree"
   ]
  },
  {
   "cell_type": "code",
   "execution_count": 6,
   "metadata": {},
   "outputs": [
    {
     "name": "stdout",
     "output_type": "stream",
     "text": [
      "Accuracy for Decision Tree:  0.7151785714285714\n",
      "{'fit_time': array([0.01327181, 0.01282454, 0.00912166, 0.00910306]),\n",
      " 'score_time': array([0.00278735, 0.00252986, 0.00884056, 0.00326562]),\n",
      " 'test_accuracy': array([0.78571429, 0.72857143, 0.71428571, 0.63214286]),\n",
      " 'test_recall_micro': array([0.78571429, 0.72857143, 0.71428571, 0.63214286])}\n"
     ]
    }
   ],
   "source": [
    "import pickle\n",
    "from sklearn import tree\n",
    "from pprint import pprint\n",
    "from sklearn.model_selection import cross_validate\n",
    "\n",
    "CV = 4\n",
    "clf = tree.DecisionTreeClassifier(class_weight='balanced')\n",
    "cv_results = cross_validate(clf, nav_data, nav_labels, cv=CV, scoring=('accuracy', 'recall_micro'))\n",
    "print('Accuracy for Decision Tree: ', cv_results['test_accuracy'].sum()/CV)\n",
    "pprint(cv_results)\n",
    "\n",
    "with open(f'nav_decision_tree.pkl', 'wb') as f:\n",
    "    pickle.dump(clf, f)"
   ]
  }
 ],
 "metadata": {
  "interpreter": {
   "hash": "732f00c41ec6febe1195a3ec4989d3211f40efb04fd77f25a6f0f8bfd6feb066"
  },
  "kernelspec": {
   "display_name": "Python 3.9.5 64-bit ('tf-gpu': conda)",
   "language": "python",
   "name": "python3"
  },
  "language_info": {
   "codemirror_mode": {
    "name": "ipython",
    "version": 3
   },
   "file_extension": ".py",
   "mimetype": "text/x-python",
   "name": "python",
   "nbconvert_exporter": "python",
   "pygments_lexer": "ipython3",
   "version": "3.9.5"
  },
  "orig_nbformat": 4
 },
 "nbformat": 4,
 "nbformat_minor": 2
}
