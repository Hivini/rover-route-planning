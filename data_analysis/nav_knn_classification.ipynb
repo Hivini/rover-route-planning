{
 "cells": [
  {
   "cell_type": "code",
   "execution_count": 1,
   "metadata": {},
   "outputs": [],
   "source": [
    "import numpy as np\n",
    "\n",
    "nav_data = np.load(f'processed_nav_data.npy')\n",
    "nav_labels = np.load(f'nav_data_labels.npy')\n",
    "navs_columns = np.load('navs_columns_metadata.npy')"
   ]
  },
  {
   "cell_type": "markdown",
   "metadata": {},
   "source": [
    "# KNN Classification"
   ]
  },
  {
   "cell_type": "code",
   "execution_count": 15,
   "metadata": {},
   "outputs": [
    {
     "name": "stdout",
     "output_type": "stream",
     "text": [
      "Accuracy for k-NN (32 neighbors):  0.8053571428571429\n",
      "{'fit_time': array([0.00404215, 0.00182176, 0.00396991, 0.00236511, 0.00229263]),\n",
      " 'score_time': array([0.02520847, 0.01785898, 0.02594256, 0.02786422, 0.02522397]),\n",
      " 'test_accuracy': array([0.88392857, 0.84375   , 0.81696429, 0.79464286, 0.6875    ]),\n",
      " 'test_recall_micro': array([0.88392857, 0.84375   , 0.81696429, 0.79464286, 0.6875    ])}\n"
     ]
    }
   ],
   "source": [
    "import pickle\n",
    "from pprint import pprint\n",
    "from sklearn import neighbors\n",
    "from sklearn.model_selection import cross_validate\n",
    "\n",
    "# 5-fold cross-validation\n",
    "CV = 5\n",
    "clf = neighbors.KNeighborsClassifier(n_neighbors=32)\n",
    "cv_results = cross_validate(clf, nav_data, nav_labels, cv=CV, scoring=(\n",
    "    'accuracy', 'recall_micro'))\n",
    "print('Accuracy for k-NN (32 neighbors): ',\n",
    "      cv_results['test_accuracy'].sum()/CV)\n",
    "pprint(cv_results)\n",
    "\n",
    "with open('nav_knn.pkl', 'wb') as f:\n",
    "    pickle.dump(clf, f)\n"
   ]
  }
 ],
 "metadata": {
  "interpreter": {
   "hash": "732f00c41ec6febe1195a3ec4989d3211f40efb04fd77f25a6f0f8bfd6feb066"
  },
  "kernelspec": {
   "display_name": "Python 3.9.5 64-bit ('tf-gpu': conda)",
   "language": "python",
   "name": "python3"
  },
  "language_info": {
   "codemirror_mode": {
    "name": "ipython",
    "version": 3
   },
   "file_extension": ".py",
   "mimetype": "text/x-python",
   "name": "python",
   "nbconvert_exporter": "python",
   "pygments_lexer": "ipython3",
   "version": "3.9.5"
  },
  "orig_nbformat": 4
 },
 "nbformat": 4,
 "nbformat_minor": 2
}
