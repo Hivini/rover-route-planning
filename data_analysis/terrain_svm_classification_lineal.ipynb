{
 "cells": [
  {
   "cell_type": "code",
   "execution_count": 1,
   "metadata": {},
   "outputs": [],
   "source": [
    "import numpy as np\n",
    "\n",
    "terrain_data = np.load(f'processed_terrain_data.npy')\n",
    "terrain_labels = np.load(f'terrain_data_labels.npy')\n",
    "terrain_columns = np.load('terrains_columns_metadata.npy')"
   ]
  },
  {
   "cell_type": "markdown",
   "metadata": {},
   "source": [
    "# Clasificador SVM"
   ]
  },
  {
   "cell_type": "code",
   "execution_count": 2,
   "metadata": {},
   "outputs": [
    {
     "name": "stdout",
     "output_type": "stream",
     "text": [
      "SVM Radial Accuracy:  0.6813397343308273\n",
      "{'fit_time': array([412.20055151, 632.480901  , 485.57682395, 284.43923569,\n",
      "       292.5271163 , 275.13119411, 387.55154991, 231.38961601]),\n",
      " 'score_time': array([0.04476261, 0.04135418, 0.02492881, 0.02907443, 0.03001761,\n",
      "       0.0285964 , 0.03046346, 0.02697563]),\n",
      " 'test_accuracy': array([0.70719603, 0.78908189, 0.64019851, 0.7369727 , 0.64516129,\n",
      "       0.57568238, 0.71712159, 0.63930348]),\n",
      " 'test_recall_micro': array([0.70719603, 0.78908189, 0.64019851, 0.7369727 , 0.64516129,\n",
      "       0.57568238, 0.71712159, 0.63930348])}\n"
     ]
    }
   ],
   "source": [
    "import pickle\n",
    "from pprint import pprint\n",
    "from sklearn import svm\n",
    "from sklearn.model_selection import cross_validate\n",
    "\n",
    "CV = 8\n",
    "clf = svm.SVC(kernel = 'linear', class_weight='balanced')\n",
    "cv_results = cross_validate(clf, terrain_data, terrain_labels, cv=CV, scoring=('accuracy', 'recall_micro'))\n",
    "print('SVM Radial Accuracy: ', cv_results['test_accuracy'].sum()/CV)\n",
    "pprint(cv_results)\n",
    "\n",
    "with open(f'terrain_svm_linear.pkl', 'wb') as f:\n",
    "    pickle.dump(clf, f)"
   ]
  }
 ],
 "metadata": {
  "interpreter": {
   "hash": "732f00c41ec6febe1195a3ec4989d3211f40efb04fd77f25a6f0f8bfd6feb066"
  },
  "kernelspec": {
   "display_name": "Python 3.9.5 64-bit ('tf-gpu': conda)",
   "language": "python",
   "name": "python3"
  },
  "language_info": {
   "codemirror_mode": {
    "name": "ipython",
    "version": 3
   },
   "file_extension": ".py",
   "mimetype": "text/x-python",
   "name": "python",
   "nbconvert_exporter": "python",
   "pygments_lexer": "ipython3",
   "version": "3.9.5"
  },
  "orig_nbformat": 4
 },
 "nbformat": 4,
 "nbformat_minor": 2
}
