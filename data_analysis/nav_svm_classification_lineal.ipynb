{
 "cells": [
  {
   "cell_type": "code",
   "execution_count": 1,
   "metadata": {},
   "outputs": [],
   "source": [
    "import numpy as np\n",
    "\n",
    "nav_data = np.load(f'processed_nav_data.npy')\n",
    "nav_labels = np.load(f'nav_data_labels.npy')\n",
    "navs_columns = np.load('navs_columns_metadata.npy')"
   ]
  },
  {
   "cell_type": "code",
   "execution_count": 2,
   "metadata": {},
   "outputs": [
    {
     "name": "stdout",
     "output_type": "stream",
     "text": [
      "SVM Linear Accuracy:  0.8089285714285714\n",
      "{'fit_time': array([0.07711935, 0.0626862 , 0.07084107, 0.04563951]),\n",
      " 'score_time': array([0.00231528, 0.00218463, 0.00202966, 0.0018692 ]),\n",
      " 'test_accuracy': array([0.88571429, 0.85      , 0.80714286, 0.69285714]),\n",
      " 'test_recall_micro': array([0.88571429, 0.85      , 0.80714286, 0.69285714])}\n"
     ]
    }
   ],
   "source": [
    "import pickle\n",
    "from pprint import pprint\n",
    "from sklearn import svm\n",
    "from sklearn.model_selection import cross_validate\n",
    "\n",
    "CV = 4\n",
    "\n",
    "clf = svm.SVC(kernel = 'linear', class_weight='balanced')\n",
    "cv_results = cross_validate(clf, nav_data, nav_labels, cv=CV, scoring=('accuracy', 'recall_micro'))\n",
    "print('SVM Linear Accuracy: ', cv_results['test_accuracy'].sum()/CV)\n",
    "pprint(cv_results)\n",
    "\n",
    "with open(f'nav_svm_linear.pkl', 'wb') as f:\n",
    "    pickle.dump(clf, f)"
   ]
  }
 ],
 "metadata": {
  "interpreter": {
   "hash": "732f00c41ec6febe1195a3ec4989d3211f40efb04fd77f25a6f0f8bfd6feb066"
  },
  "kernelspec": {
   "display_name": "Python 3.9.5 64-bit ('tf-gpu': conda)",
   "language": "python",
   "name": "python3"
  },
  "language_info": {
   "codemirror_mode": {
    "name": "ipython",
    "version": 3
   },
   "file_extension": ".py",
   "mimetype": "text/x-python",
   "name": "python",
   "nbconvert_exporter": "python",
   "pygments_lexer": "ipython3",
   "version": "3.9.5"
  },
  "orig_nbformat": 4
 },
 "nbformat": 4,
 "nbformat_minor": 2
}
