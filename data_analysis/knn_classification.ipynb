{
 "cells": [
  {
   "cell_type": "code",
   "execution_count": 13,
   "metadata": {},
   "outputs": [
    {
     "name": "stdout",
     "output_type": "stream",
     "text": [
      "856\n"
     ]
    }
   ],
   "source": [
    "import numpy as np\n",
    "\n",
    "TYPE = 'nav'\n",
    "\n",
    "surface_data = np.load(f'{TYPE}_data.npy')\n",
    "surface_labels = np.load(f'{TYPE}_data_labels.npy')\n",
    "column_metadata = np.load('surface_columns_metadata.npy')\n",
    "print(len(surface_data))"
   ]
  },
  {
   "cell_type": "markdown",
   "metadata": {},
   "source": [
    "# KNN Classification"
   ]
  },
  {
   "cell_type": "code",
   "execution_count": 14,
   "metadata": {},
   "outputs": [
    {
     "name": "stdout",
     "output_type": "stream",
     "text": [
      "Accuracy for k-NN (15 neighbors):  0.45440636474908197\n",
      "{'fit_time': array([0.00226974, 0.00103951, 0.00099468, 0.00100636, 0.00097179]),\n",
      " 'score_time': array([0.00949454, 0.00854683, 0.00792074, 0.00832558, 0.00793314]),\n",
      " 'test_accuracy': array([0.48255814, 0.50292398, 0.46783626, 0.42690058, 0.39181287]),\n",
      " 'test_recall_micro': array([0.48255814, 0.50292398, 0.46783626, 0.42690058, 0.39181287])}\n"
     ]
    }
   ],
   "source": [
    "import pickle\n",
    "from pprint import pprint\n",
    "from sklearn import neighbors\n",
    "from sklearn.model_selection import cross_validate\n",
    "\n",
    "# 5-fold cross-validation\n",
    "CV = 5\n",
    "clf = neighbors.KNeighborsClassifier(n_neighbors=15)\n",
    "cv_results = cross_validate(clf, surface_data, surface_labels, cv=CV, scoring=('accuracy', 'recall_micro'))\n",
    "print('Accuracy for k-NN (15 neighbors): ', cv_results['test_accuracy'].sum()/CV)\n",
    "pprint(cv_results)\n",
    "\n",
    "with open(f'{TYPE}_knn.pkl', 'wb') as f:\n",
    "    pickle.dump(clf, f)"
   ]
  }
 ],
 "metadata": {
  "interpreter": {
   "hash": "732f00c41ec6febe1195a3ec4989d3211f40efb04fd77f25a6f0f8bfd6feb066"
  },
  "kernelspec": {
   "display_name": "Python 3.9.5 64-bit ('tf-gpu': conda)",
   "language": "python",
   "name": "python3"
  },
  "language_info": {
   "codemirror_mode": {
    "name": "ipython",
    "version": 3
   },
   "file_extension": ".py",
   "mimetype": "text/x-python",
   "name": "python",
   "nbconvert_exporter": "python",
   "pygments_lexer": "ipython3",
   "version": "3.9.5"
  },
  "orig_nbformat": 4
 },
 "nbformat": 4,
 "nbformat_minor": 2
}
