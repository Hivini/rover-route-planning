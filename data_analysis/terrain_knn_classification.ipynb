{
 "cells": [
  {
   "cell_type": "code",
   "execution_count": 1,
   "metadata": {},
   "outputs": [],
   "source": [
    "import numpy as np\n",
    "\n",
    "terrain_data = np.load(f'processed_terrain_data.npy')\n",
    "terrain_labels = np.load(f'terrain_data_labels.npy')\n",
    "terrain_columns = np.load('terrains_columns_metadata.npy')\n"
   ]
  },
  {
   "cell_type": "markdown",
   "metadata": {},
   "source": [
    "# KNN Classification"
   ]
  },
  {
   "cell_type": "code",
   "execution_count": 41,
   "metadata": {},
   "outputs": [
    {
     "name": "stdout",
     "output_type": "stream",
     "text": [
      "Accuracy for k-NN (18 neighbors):  0.6797963310703452\n",
      "{'fit_time': array([0.00470161, 0.00329614, 0.0031755 , 0.00324559, 0.00337887]),\n",
      " 'score_time': array([0.04441381, 0.0417769 , 0.03905535, 0.03508306, 0.05039954]),\n",
      " 'test_accuracy': array([0.70697674, 0.66356589, 0.68527132, 0.64906832, 0.69409938]),\n",
      " 'test_recall_micro': array([0.70697674, 0.66356589, 0.68527132, 0.64906832, 0.69409938])}\n"
     ]
    }
   ],
   "source": [
    "import pickle\n",
    "from pprint import pprint\n",
    "from sklearn import neighbors\n",
    "from sklearn.model_selection import cross_validate\n",
    "\n",
    "# 5-fold cross-validation\n",
    "CV = 5\n",
    "clf = neighbors.KNeighborsClassifier(n_neighbors=18)\n",
    "cv_results = cross_validate(clf, terrain_data, terrain_labels, cv=CV, scoring=(\n",
    "    'accuracy', 'recall_micro'))\n",
    "print('Accuracy for k-NN (18 neighbors): ',\n",
    "      cv_results['test_accuracy'].sum()/CV)\n",
    "pprint(cv_results)\n",
    "\n",
    "with open(f'terrain_knn.pkl', 'wb') as f:\n",
    "    pickle.dump(clf, f)\n"
   ]
  }
 ],
 "metadata": {
  "interpreter": {
   "hash": "732f00c41ec6febe1195a3ec4989d3211f40efb04fd77f25a6f0f8bfd6feb066"
  },
  "kernelspec": {
   "display_name": "Python 3.9.5 64-bit ('tf-gpu': conda)",
   "language": "python",
   "name": "python3"
  },
  "language_info": {
   "codemirror_mode": {
    "name": "ipython",
    "version": 3
   },
   "file_extension": ".py",
   "mimetype": "text/x-python",
   "name": "python",
   "nbconvert_exporter": "python",
   "pygments_lexer": "ipython3",
   "version": "3.9.5"
  },
  "orig_nbformat": 4
 },
 "nbformat": 4,
 "nbformat_minor": 2
}
