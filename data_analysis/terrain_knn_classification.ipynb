{
 "cells": [
  {
   "cell_type": "code",
   "execution_count": 1,
   "metadata": {},
   "outputs": [],
   "source": [
    "import numpy as np\n",
    "\n",
    "terrain_data = np.load(f'processed_terrain_data.npy')\n",
    "terrain_labels = np.load(f'terrain_data_labels.npy')\n",
    "terrain_columns = np.load('terrains_columns_metadata.npy')\n"
   ]
  },
  {
   "cell_type": "markdown",
   "metadata": {},
   "source": [
    "# KNN Classification"
   ]
  },
  {
   "cell_type": "code",
   "execution_count": 2,
   "metadata": {},
   "outputs": [
    {
     "name": "stdout",
     "output_type": "stream",
     "text": [
      "Confusion matrix\n",
      " [[198   2   4]\n",
      " [ 19  49  18]\n",
      " [  9  21  91]]\n",
      "Confusion matrix\n",
      " [[197   3   3]\n",
      " [ 13  52  21]\n",
      " [ 15  19  87]]\n",
      "Confusion matrix\n",
      " [[199   3   2]\n",
      " [ 20  41  25]\n",
      " [  8  18  94]]\n",
      "Confusion matrix\n",
      " [[198   5   1]\n",
      " [ 12  49  25]\n",
      " [ 14  17  89]]\n",
      "Confusion matrix\n",
      " [[195   6   3]\n",
      " [ 12  53  20]\n",
      " [ 19  23  79]]\n",
      "Acc:  0.8147207880837932\n",
      "Precision:  [0.87501483 0.67620618 0.78287517]\n",
      "Recall:  [0.96859847 0.56889193 0.72979339]\n"
     ]
    }
   ],
   "source": [
    "import pickle\n",
    "from sklearn import neighbors\n",
    "from sklearn.model_selection import StratifiedKFold\n",
    "from sklearn.metrics import confusion_matrix\n",
    "\n",
    "\n",
    "foldsNum = 5\n",
    "kf = StratifiedKFold(n_splits=foldsNum, shuffle = True)\n",
    "clf = neighbors.KNeighborsClassifier(n_neighbors=18)\n",
    "acc = 0\n",
    "n_classes = len(np.unique(terrain_labels))\n",
    "recall = np.zeros(n_classes)\n",
    "precision = np.zeros(n_classes)\n",
    "for train_index, test_index in kf.split(terrain_data, terrain_labels):\n",
    "    \n",
    "    # Training phase\n",
    "    x_train = terrain_data[train_index, :]\n",
    "    y_train = terrain_labels[train_index]\n",
    "    clf.fit(x_train, y_train)\n",
    "\n",
    "    # Test phase\n",
    "    x_test = terrain_data[test_index, :]\n",
    "    y_test = terrain_labels[test_index]    \n",
    "    y_pred = clf.predict(x_test)\n",
    "    # Calculate confusion matrix and model performance\n",
    "    cm = confusion_matrix(y_test, y_pred)\n",
    "    print('Confusion matrix\\n', cm)\n",
    "\n",
    "    accSum = 0\n",
    "    for i in range(n_classes):\n",
    "        accSum += cm[i,i]\n",
    "    acc += accSum / len(y_test)\n",
    "\n",
    "    for i in range(n_classes):\n",
    "        innerSum = 0\n",
    "        for y in range(n_classes):\n",
    "            innerSum += cm[i,y]\n",
    "        recall[i] += cm[i,i]/innerSum\n",
    "\n",
    "    for i in range(n_classes):\n",
    "        innerSum = 0\n",
    "        for y in range(n_classes):\n",
    "            innerSum += cm[y,i]\n",
    "        precision[i] += cm[i,i]/innerSum\n",
    "\n",
    "# Print results\n",
    "acc = acc/foldsNum\n",
    "print('Acc: ', acc)\n",
    "precision = precision/foldsNum\n",
    "print('Precision: ', precision)\n",
    "recall = recall/foldsNum\n",
    "print('Recall: ', recall)\n",
    "\n",
    "with open(f'terrain_knn.pkl', 'wb') as f:\n",
    "    pickle.dump(clf, f)\n"
   ]
  }
 ],
 "metadata": {
  "interpreter": {
   "hash": "732f00c41ec6febe1195a3ec4989d3211f40efb04fd77f25a6f0f8bfd6feb066"
  },
  "kernelspec": {
   "display_name": "Python 3.9.5 64-bit ('tf-gpu': conda)",
   "language": "python",
   "name": "python3"
  },
  "language_info": {
   "codemirror_mode": {
    "name": "ipython",
    "version": 3
   },
   "file_extension": ".py",
   "mimetype": "text/x-python",
   "name": "python",
   "nbconvert_exporter": "python",
   "pygments_lexer": "ipython3",
   "version": "3.9.5"
  },
  "orig_nbformat": 4
 },
 "nbformat": 4,
 "nbformat_minor": 2
}
