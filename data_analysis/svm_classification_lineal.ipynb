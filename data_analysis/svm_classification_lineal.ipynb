{
 "cells": [
  {
   "cell_type": "code",
   "execution_count": 4,
   "metadata": {},
   "outputs": [
    {
     "name": "stdout",
     "output_type": "stream",
     "text": [
      "856\n"
     ]
    }
   ],
   "source": [
    "import numpy as np\n",
    "\n",
    "TYPE = 'nav'\n",
    "\n",
    "surface_data = np.load(f'{TYPE}_data.npy')\n",
    "surface_labels = np.load(f'{TYPE}_data_labels.npy')\n",
    "column_metadata = np.load('surface_columns_metadata.npy')\n",
    "print(len(surface_data))"
   ]
  },
  {
   "cell_type": "markdown",
   "metadata": {},
   "source": [
    "# Clasificador SVM"
   ]
  },
  {
   "cell_type": "code",
   "execution_count": 6,
   "metadata": {},
   "outputs": [
    {
     "name": "stdout",
     "output_type": "stream",
     "text": [
      "SVM Lineal Accuracy:  0.49053645884631797\n",
      "{'fit_time': array([7.64063859, 5.69116187, 7.69920421, 5.42334509, 5.20077753,\n",
      "       5.509835  ]),\n",
      " 'score_time': array([0.00281668, 0.00331473, 0.00364614, 0.00260878, 0.00303841,\n",
      "       0.00294375]),\n",
      " 'test_accuracy': array([0.54545455, 0.46853147, 0.58041958, 0.46853147, 0.45070423,\n",
      "       0.42957746]),\n",
      " 'test_recall_micro': array([0.54545455, 0.46853147, 0.58041958, 0.46853147, 0.45070423,\n",
      "       0.42957746])}\n"
     ]
    }
   ],
   "source": [
    "import pickle\n",
    "from pprint import pprint\n",
    "from sklearn import svm\n",
    "from sklearn.model_selection import cross_validate\n",
    "\n",
    "CV = 6\n",
    "clf = svm.SVC(kernel = 'linear')\n",
    "cv_results = cross_validate(clf, surface_data, surface_labels, cv=CV, scoring=('accuracy', 'recall_micro'))\n",
    "print('SVM Lineal Accuracy: ', cv_results['test_accuracy'].sum()/CV)\n",
    "pprint(cv_results)\n",
    "\n",
    "with open(f'{TYPE}_svm_lineal.pkl', 'wb') as f:\n",
    "    pickle.dump(clf, f)"
   ]
  }
 ],
 "metadata": {
  "interpreter": {
   "hash": "732f00c41ec6febe1195a3ec4989d3211f40efb04fd77f25a6f0f8bfd6feb066"
  },
  "kernelspec": {
   "display_name": "Python 3.9.5 64-bit ('tf-gpu': conda)",
   "language": "python",
   "name": "python3"
  },
  "language_info": {
   "codemirror_mode": {
    "name": "ipython",
    "version": 3
   },
   "file_extension": ".py",
   "mimetype": "text/x-python",
   "name": "python",
   "nbconvert_exporter": "python",
   "pygments_lexer": "ipython3",
   "version": "3.9.5"
  },
  "orig_nbformat": 4
 },
 "nbformat": 4,
 "nbformat_minor": 2
}
